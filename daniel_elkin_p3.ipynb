{
 "cells": [
  {
   "cell_type": "markdown",
   "metadata": {},
   "source": [
    "# Project 3: Poisonous mushrooms"
   ]
  },
  {
   "cell_type": "markdown",
   "metadata": {},
   "source": [
    "In this project, you'll investigate properties of mushrooms. This classic dataset contains over 8000 observations, where each mushroom is described by a variety of features like color, odor, etc., and the target variable is an indicator for whether the mushroom is poisonous. Since all the observations are categorical, I've binarized the feature space. Look at the feature_names below to see all 126 binary names.\n",
    "\n",
    "You'll start by running PCA to reduce the dimensionality from 126 down to 2 so that you can easily visualize the data. In general, PCA is very useful for visualization (though sklearn.manifold.tsne is known to produce better visualizations). Recall that PCA is a linear transformation. The 1st projected dimension is the linear combination of all 126 original features that captures as much of the variance in the data as possible. The 2nd projected dimension is the linear combination of all 126 original features that captures as much of the remaining variance as possible. The idea of dense low dimensional representations is crucial to machine learning!\n",
    "\n",
    "Once you've projected the data to 2 dimensions, you'll experiment with clustering using KMeans and density estimation with Gaussian Mixture Models. Finally, you'll train a classifier by fitting a GMM for the positive class and a GMM for the negative class, and perform inference by comparing the probabilities output by each model.\n",
    "\n",
    "As always, you're welcome to work on the project in groups and discuss ideas on the course wall, but please prepare your own write-up and write your own code."
   ]
  },
  {
   "cell_type": "code",
   "execution_count": 1,
   "metadata": {},
   "outputs": [],
   "source": [
    "%matplotlib inline\n",
    "\n",
    "import numpy as np\n",
    "import matplotlib.pyplot as plt\n",
    "from sklearn import metrics\n",
    "from sklearn.decomposition import PCA\n",
    "from sklearn.cluster import KMeans\n",
    "from sklearn.mixture import GMM\n",
    "from matplotlib.colors import LogNorm"
   ]
  },
  {
   "cell_type": "markdown",
   "metadata": {},
   "source": [
    "Load feature names."
   ]
  },
  {
   "cell_type": "code",
   "execution_count": 53,
   "metadata": {},
   "outputs": [
    {
     "name": "stdout",
     "output_type": "stream",
     "text": [
      "Loaded feature names: 126\n"
     ]
    }
   ],
   "source": [
    "feature_names = []\n",
    "#with open('../Data/mushroom.map') as fmap:\n",
    "with open('Data/mushroom.map') as fmap:\n",
    "    for line in fmap:\n",
    "        [index, name, junk] = line.split()\n",
    "        feature_names.append(name)\n",
    "\n",
    "print 'Loaded feature names:', len(feature_names)"
   ]
  },
  {
   "cell_type": "markdown",
   "metadata": {},
   "source": [
    "Load data. The data is sparse in the input file, but there aren't too many features, so we'll use a dense representation, which is supported by all sklearn objects."
   ]
  },
  {
   "cell_type": "code",
   "execution_count": 4,
   "metadata": {},
   "outputs": [
    {
     "name": "stdout",
     "output_type": "stream",
     "text": [
      "(7000, 126) (1124, 126)\n"
     ]
    }
   ],
   "source": [
    "X, Y = [], []\n",
    "\n",
    "#with open('../Data/mushroom.data') as fdata:\n",
    "with open('Data/mushroom.data') as fdata:\n",
    "    for line in fdata:\n",
    "        items = line.split()\n",
    "        Y.append(int(items.pop(0)))\n",
    "        x = np.zeros(len(feature_names))\n",
    "        for item in items:\n",
    "            feature = int(item.split(':')[0])\n",
    "            x[feature] = 1\n",
    "        X.append(x)\n",
    "\n",
    "# Convert these lists to numpy arrays.\n",
    "X = np.array(X)\n",
    "Y = np.array(Y)\n",
    "\n",
    "# Split into train and test data.\n",
    "train_data, train_labels = X[:7000], Y[:7000]\n",
    "test_data, test_labels = X[7000:], Y[7000:]\n",
    "\n",
    "# Check that the shapes look right.\n",
    "print train_data.shape, test_data.shape"
   ]
  },
  {
   "cell_type": "markdown",
   "metadata": {},
   "source": [
    "(1) Run Principal Components Analysis on the data. Show what fraction of the total variance in the training data is explained by the first k principal components, for k in [1, 50]."
   ]
  },
  {
   "cell_type": "code",
   "execution_count": 36,
   "metadata": {},
   "outputs": [
    {
     "name": "stdout",
     "output_type": "stream",
     "text": [
      "[ 0.16404331  0.2972781   0.39901267  0.46964623  0.50831269  0.54512074\n",
      "  0.57640313  0.6037405   0.62990541  0.65221483  0.67269656  0.69137987\n",
      "  0.70872409  0.7255677   0.74075588  0.75584207  0.7701334   0.78425353\n",
      "  0.79750398  0.80896777  0.81967842  0.83033589  0.84074556  0.85068255\n",
      "  0.85976325  0.86845651  0.87641268  0.88417092  0.89154662  0.89854938\n",
      "  0.90496171  0.91110684  0.91683029  0.92216658  0.92742594  0.93245269\n",
      "  0.9374431   0.94200252  0.94653036  0.95092824  0.95512313  0.95910015\n",
      "  0.96280058  0.96639586  0.9697771   0.97276697  0.97548727  0.97784431\n",
      "  0.98005825  0.98210276]\n"
     ]
    },
    {
     "data": {
      "text/plain": [
       "[<matplotlib.lines.Line2D at 0x1a222588d0>]"
      ]
     },
     "execution_count": 36,
     "metadata": {},
     "output_type": "execute_result"
    },
    {
     "data": {
      "image/png": "[encoded data removed]",
      "text/plain": [
       "<matplotlib.figure.Figure at 0x1a21e60f90>"
      ]
     },
     "metadata": {},
     "output_type": "display_data"
    }
   ],
   "source": [
    "#def P1():\n",
    "### STUDENT START ###\n",
    "\n",
    "from sklearn.decomposition import PCA\n",
    "'''\n",
    "lim = 3#50\n",
    "for k in range(1, lim + 1):\n",
    "    pca = PCA(n_components = k)\n",
    "    pca.fit(train_data)\n",
    "\n",
    "    print pca.explained_variance_ratio_\n",
    "    print pca.explained_variance_\n",
    "    print np.cumsum(pca.explained_variance_ratio_)\n",
    "    print np.cumsum(pca.explained_variance_ratio_)[-1]\n",
    "'''\n",
    "\n",
    "# Perform PCA\n",
    "pca = PCA(n_components = 50)\n",
    "pca.fit(train_data)\n",
    "\n",
    "# Calculate the cumulative fraction of variance explained with\n",
    "# each additional component\n",
    "explained = np.cumsum(pca.explained_variance_ratio_)\n",
    "\n",
    "# Plot the results\n",
    "print explained\n",
    "plt.ylabel('Variance Explained')\n",
    "plt.xlabel('Number of Components')\n",
    "plt.plot(explained)\n",
    "\n",
    "### STUDENT END ###\n",
    "\n",
    "#P1()"
   ]
  },
  {
   "cell_type": "markdown",
   "metadata": {},
   "source": [
    "(2) PCA can be very useful for visualizing data. Project the training data down to 2 dimensions and plot it. Show the positive (poisonous) cases in blue and the negative (non-poisonous) in red. Here's a reference for plotting: http://matplotlib.org/users/pyplot_tutorial.html"
   ]
  },
  {
   "cell_type": "code",
   "execution_count": 78,
   "metadata": {},
   "outputs": [
    {
     "name": "stdout",
     "output_type": "stream",
     "text": [
      "(7000, 2)\n",
      "[[-1.0543445  -0.8942632 ]\n",
      " [-1.44383044 -0.08008521]\n",
      " [-1.54310134 -0.28842415]\n",
      " ..., \n",
      " [-0.84782638 -0.52479479]\n",
      " [-1.07204574  0.23034776]\n",
      " [-0.47873989 -0.99965188]]\n"
     ]
    },
    {
     "data": {
      "image/png": "[encoded data removed]",
      "text/plain": [
       "<matplotlib.figure.Figure at 0x1a2362a510>"
      ]
     },
     "metadata": {},
     "output_type": "display_data"
    }
   ],
   "source": [
    "#def P2():\n",
    "### STUDENT START ###\n",
    "\n",
    "# reduce the 126 features to 2\n",
    "reduced_data = PCA(n_components=2).fit_transform(train_data)\n",
    "\n",
    "print reduced_data.shape\n",
    "print reduced_data\n",
    "\n",
    "# separate the data into poisonous and non-poisonous cases\n",
    "poison_indexes = np.where(train_labels == 1)\n",
    "nonpoison_indexes = np.where(train_labels == 0)\n",
    "\n",
    "poison = reduced_data[poison_indexes]\n",
    "nonpoison = reduced_data[nonpoison_indexes]\n",
    "\n",
    "# plot the cases with each feature corresponding to one axis\n",
    "projected_data = plt.plot(poison[:, 0], poison[:, 1], 'bo', nonpoison[:, 0], nonpoison[:, 1], 'ro',)\n",
    "\n",
    "### STUDENT END ###\n",
    "\n",
    "#P2()"
   ]
  },
  {
   "cell_type": "markdown",
   "metadata": {},
   "source": [
    "(3) Run KMeans with [1,16] clusters over the 2d projected data. Mark each centroid cluster and plot a circle that goes through the most distant point assigned to each cluster."
   ]
  },
  {
   "cell_type": "code",
   "execution_count": 143,
   "metadata": {},
   "outputs": [
    {
     "name": "stdout",
     "output_type": "stream",
     "text": [
      "(2, 2)\n",
      "[[-0.96600017 -0.18214489]\n",
      " [ 1.67643875  0.31610216]]\n",
      "[-0.96600017 -0.18214489]\n"
     ]
    },
    {
     "data": {
      "image/png": "[encoded data removed]",
      "text/plain": [
       "<matplotlib.figure.Figure at 0x1a24c457d0>"
      ]
     },
     "metadata": {},
     "output_type": "display_data"
    }
   ],
   "source": [
    "#def P3():\n",
    "### STUDENT START ###\n",
    "\n",
    "def k_means_cluster(num_clusters):\n",
    "    # get the clusters\n",
    "    km = KMeans(n_clusters=num_clusters, init='k-means++')\n",
    "    clusters = km.fit(reduced_data)\n",
    "    print clusters.cluster_centers_.shape\n",
    "    print clusters.cluster_centers_\n",
    "    \n",
    "    # set the figure size and axes values appropriately\n",
    "    plt.figure(figsize =(8, 8))\n",
    "    plt.axis([-3, 3, -3, 3])\n",
    "\n",
    "    # copy-pasta - plotting all the data\n",
    "    plt.plot(poison[:, 0], poison[:, 1], 'bo', nonpoison[:, 0], nonpoison[:, 1], 'ro',)\n",
    "   \n",
    "    # plot the centers of the clusters\n",
    "    centers = [cc for cc in clusters.cluster_centers_]\n",
    "    center = clusters.cluster_centers_[0]\n",
    "    print center\n",
    "    plt.plot(center[0], center[1], 'go', markersize=10)\n",
    "\n",
    "    # plot a circle around the center with a radius\n",
    "    # that equals the distance to the farthest point\n",
    "    # from the center in the cluster\n",
    "    radius = metrics.pairwise_distances(clusters.cluster_centers_, reduced_data).max()\n",
    "    circle = plt.Circle(center, radius, fill=False)\n",
    "    fig = plt.gcf()\n",
    "    ax = fig.gca()\n",
    "    ax.add_artist(circle)\n",
    "    \n",
    "\n",
    "k_means_cluster(2)\n",
    "### STUDENT END ###\n",
    "\n",
    "#P3()"
   ]
  },
  {
   "cell_type": "markdown",
   "metadata": {},
   "source": [
    "(4) Fit a Gaussian Mixture Model for the positive examples in your 2d projected data. Plot the estimated density contours as shown here: http://scikit-learn.org/stable/auto_examples/mixture/plot_gmm_pdf.html#example-mixture-plot-gmm-pdf-py. Vary the number of mixture components from 1-4 and the covariance matrix type ('spherical', 'diag', 'tied', 'full')."
   ]
  },
  {
   "cell_type": "code",
   "execution_count": 4,
   "metadata": {},
   "outputs": [],
   "source": [
    "#def P4():\n",
    "### STUDENT START ###\n",
    "\n",
    "### STUDENT END ###\n",
    "\n",
    "#P4()"
   ]
  },
  {
   "cell_type": "markdown",
   "metadata": {},
   "source": [
    "(5) Fit two 4-component full covariance GMMs, one for the positive examples and one for the negative examples in your 2d projected data. Predict the test examples by choosing the label for which the model gives a larger probability (use GMM.score). What is the accuracy?"
   ]
  },
  {
   "cell_type": "code",
   "execution_count": 5,
   "metadata": {},
   "outputs": [],
   "source": [
    "#def P5():\n",
    "### STUDENT START ###\n",
    "\n",
    "### STUDENT END ###\n",
    "\n",
    "#P5()"
   ]
  },
  {
   "cell_type": "markdown",
   "metadata": {},
   "source": [
    "(6) Ideally, we'd like a model that gives the best accuracy with the fewest parameters. Run a series of experiments to find the model that gives the best accuracy with no more than 50 parameters. For example, with 3 PCA components and 2-component diagonal covariance GMMs, you'd have:\n",
    "\n",
    "( (3 mean vector + 3 covariance matrix) x 2 components ) x 2 classes = 24 parameters\n",
    "\n",
    "You should vary the number of PCA components, the number of GMM components, and the covariance type."
   ]
  },
  {
   "cell_type": "code",
   "execution_count": 6,
   "metadata": {},
   "outputs": [],
   "source": [
    "#def P6():\n",
    "### STUDENT START ###\n",
    "\n",
    "### STUDENT END ###\n",
    "\n",
    "#P6()"
   ]
  },
  {
   "cell_type": "code",
   "execution_count": null,
   "metadata": {
    "collapsed": true
   },
   "outputs": [],
   "source": []
  }
 ],
 "metadata": {
  "kernelspec": {
   "display_name": "Python 2",
   "language": "python",
   "name": "python2"
  },
  "language_info": {
   "codemirror_mode": {
    "name": "ipython",
    "version": 2
   },
   "file_extension": ".py",
   "mimetype": "text/x-python",
   "name": "python",
   "nbconvert_exporter": "python",
   "pygments_lexer": "ipython2",
   "version": "2.7.13"
  }
 },
 "nbformat": 4,
 "nbformat_minor": 1
}
