{
 "metadata": {
  "name": "",
  "signature": "sha256:61cb6da8c11bfc377151c753fd6c415809b3a4332b1216ad0a017aae9266b81a"
 },
 "nbformat": 3,
 "nbformat_minor": 0,
 "worksheets": [
  {
   "cells": [
    {
     "cell_type": "heading",
     "level": 1,
     "metadata": {},
     "source": [
      "Digit Classification with Neural Networks "
     ]
    },
    {
     "cell_type": "markdown",
     "metadata": {},
     "source": [
      "Interest in neural nets, and in particular those with more than than one hidden layer, has been surging in recent years.  In this notebook we will be revisiting the problem of digit classification on the MNIST data.  We will be introducing a new Python library, Theano, for working with neural nets.  Theano is a popular choice as the same code can be run on either CPUs or GPUs.  GPUs greatly speed up the training and prediction, and easily available (Amazon even offers GPU machines on EC2)."
     ]
    },
    {
     "cell_type": "heading",
     "level": 4,
     "metadata": {},
     "source": [
      "Part 1: Basics"
     ]
    },
    {
     "cell_type": "markdown",
     "metadata": {},
     "source": [
      "In part 1, we will review the basics of neural nets, and introduce Theano.  In part 2, we will investigate more advanced topics in neural nets, including  deep learning.  I'd encourage you to read this paper as well as a supplementary explanation of Theano (http://www.iro.umontreal.ca/~lisa/pointeurs/theano_scipy2010.pdf)."
     ]
    },
    {
     "cell_type": "code",
     "collapsed": false,
     "input": [
      "%matplotlib inline\n",
      "\n",
      "# Familiar libraries.\n",
      "import numpy as np\n",
      "from sklearn.datasets import fetch_mldata\n",
      "from sklearn.metrics import classification_report\n",
      "from sklearn.neighbors import KNeighborsClassifier\n",
      "import time\n",
      "\n",
      "# Take a moment to install Theano.  We will use it for building neural networks.\n",
      "import theano \n",
      "from theano import tensor as T\n",
      "from theano.sandbox.rng_mrg import MRG_RandomStreams as RandomStreams\n",
      "print theano.config.device # We're using CPUs (for now)\n",
      "print theano.config.floatX # Should be 64 bit for CPUs\n",
      "\n",
      "np.random.seed(0)"
     ],
     "language": "python",
     "metadata": {},
     "outputs": [
      {
       "output_type": "stream",
       "stream": "stdout",
       "text": [
        "cpu\n",
        "float64\n"
       ]
      }
     ],
     "prompt_number": 15
    },
    {
     "cell_type": "code",
     "collapsed": false,
     "input": [
      "# Repeating steps from Project 1 to prepare mnist dataset. \n",
      "mnist = fetch_mldata('MNIST original', data_home='~/datasets/mnist')\n",
      "X, Y = mnist.data, mnist.target\n",
      "X = X / 255.0\n",
      "shuffle = np.random.permutation(np.arange(X.shape[0]))\n",
      "X, Y = X[shuffle], Y[shuffle]\n",
      "numExamples = 2000\n",
      "test_data, test_labels = X[70000-numExamples:], Y[70000-numExamples:]\n",
      "train_data, train_labels = X[:numExamples], Y[:numExamples]\n",
      "numFeatures = train_data[1].size\n",
      "numTrainExamples = train_data.shape[0]\n",
      "numTestExamples = test_data.shape[0]\n",
      "print 'Features = %d' %(numFeatures)\n",
      "print 'Train set = %d' %(numTrainExamples)\n",
      "print 'Test set = %d' %(numTestExamples)"
     ],
     "language": "python",
     "metadata": {},
     "outputs": [
      {
       "output_type": "stream",
       "stream": "stdout",
       "text": [
        "Features = 784\n",
        "Train set = 2000\n",
        "Test set = 2000\n"
       ]
      }
     ],
     "prompt_number": 16
    },
    {
     "cell_type": "code",
     "collapsed": false,
     "input": [
      "# Convert labels into a set of binary variables, one for each class (sometimes called a 1-of-n encoding).  \n",
      "# This makes working with NNs easier: there will be one output node for each class.\n",
      "def binarizeY(data):\n",
      "    binarized_data = np.zeros((data.size,10))\n",
      "    for j in range(0,data.size):\n",
      "        feature = data[j:j+1]\n",
      "        i = feature.astype(np.int64) \n",
      "        binarized_data[j,i]=1\n",
      "    return binarized_data\n",
      "train_labels_b = binarizeY(train_labels)\n",
      "test_labels_b = binarizeY(test_labels)\n",
      "numClasses = train_labels_b[1].size\n",
      "print 'Classes = %d' %(numClasses)"
     ],
     "language": "python",
     "metadata": {},
     "outputs": [
      {
       "output_type": "stream",
       "stream": "stdout",
       "text": [
        "Classes = 10\n"
       ]
      }
     ],
     "prompt_number": 17
    },
    {
     "cell_type": "code",
     "collapsed": false,
     "input": [
      "# Lets start with a simple KNN model to establish a baseline accuracy.\n",
      "# Question: You've seen a number of different machine learning algos.  What's your intuition about KNN scaling and \n",
      "# accuracy characteristics vs. other algos? \n",
      "neighbors = 1\n",
      " # we'll be waiting quite a while if we use 60K\n",
      "knn = KNeighborsClassifier(neighbors)\n",
      "mini_train_data, mini_train_labels = X[:numExamples], Y[:numExamples] \n",
      "start_time = time.time()\n",
      "knn.fit(mini_train_data, mini_train_labels)\n",
      "print 'Train time = %.2f' %(time.time() - start_time)\n",
      "start_time = time.time()\n",
      "accuracy = knn.score(test_data, test_labels)\n",
      "print 'Accuracy = %.4f' %(accuracy)\n",
      "print 'Prediction time = %.2f' %(time.time() - start_time)"
     ],
     "language": "python",
     "metadata": {},
     "outputs": [
      {
       "output_type": "stream",
       "stream": "stdout",
       "text": [
        "Train time = 0.11\n",
        "Accuracy = 0.9130"
       ]
      },
      {
       "output_type": "stream",
       "stream": "stdout",
       "text": [
        "\n",
        "Prediction time = 6.76\n"
       ]
      }
     ],
     "prompt_number": 18
    },
    {
     "cell_type": "code",
     "collapsed": false,
     "input": [
      "# We'll start in Theano with implententing logistic regression.  \n",
      "# Recall the four key components: (1) parms, (2) model, (3) cost, and (4) objective. \n",
      "\n",
      "## (1) Parms \n",
      "# Init weights to small, but non-zero, values.\n",
      "w = theano.shared(np.asarray((np.random.randn(*(numFeatures, numClasses))*.01)))\n",
      "\n",
      "## (2) Model\n",
      "# Theano objects accessed with standard Python variables\n",
      "X = T.matrix()\n",
      "Y = T.matrix()\n",
      "# Two things to note here.\n",
      "# First, logistic regression can be thought of as a neural net with no hidden layers.  So the output values are \n",
      "# just the dot product of the inputs and the edge weights.\n",
      "# Second, we have 10 classes.  So we can either train separate 1 vs all classification using sigmoid activation, \n",
      "# which would be a hassle, or we can use the softmax activation, which is essentially a multi-class version of sigmoid. \n",
      "\n",
      "def model(X, w):\n",
      "    return T.nnet.softmax(T.dot(X, w))\n",
      "y_hat = model(X, w)\n",
      "\n",
      "## (3) Cost\n",
      "# Cross entropy only considers the error between the true class and the prediction, and not the errors for the false \n",
      "# classes.  This tends to cause the network to converge faster.\n",
      "cost = T.mean(T.nnet.categorical_crossentropy(y_hat, Y))\n",
      "\n",
      "## (4) Objective\n",
      "# Minimization using gradient descent.\n",
      "alpha = 0.01\n",
      "gradient = T.grad(cost=cost, wrt=w)\n",
      "update = [[w, w - gradient * alpha]] \n",
      "train = theano.function(inputs=[X, Y], outputs=cost, updates=update, allow_input_downcast=True) # computes cost, then runs update\n",
      "y_pred = T.argmax(y_hat, axis=1) # select largest probability as prediction\n",
      "predict = theano.function(inputs=[X], outputs=y_pred, allow_input_downcast=True)\n",
      "\n",
      "def gradientDescent(epochs):\n",
      "    trainTime = 0.0\n",
      "    predictTime = 0.0\n",
      "    for i in range(epochs):\n",
      "        start_time = time.time()\n",
      "        cost = train(train_data[0:len(train_data)], train_labels_b[0:len(train_data)])\n",
      "        trainTime =  trainTime + (time.time() - start_time)\n",
      "        print '%d) accuracy = %.4f' %(i+1, np.mean(np.argmax(test_labels_b, axis=1) == predict(test_data)))\n",
      "    print 'train time = %.2f' %(trainTime)\n",
      "\n",
      "gradientDescent(50)\n",
      "\n",
      "start_time = time.time()\n",
      "predict(test_data)   \n",
      "print 'predict time = %.2f' %(time.time() - start_time)"
     ],
     "language": "python",
     "metadata": {},
     "outputs": [
      {
       "output_type": "stream",
       "stream": "stdout",
       "text": [
        "1) accuracy = 0.1085\n",
        "2) accuracy = 0.1370\n",
        "3) accuracy = 0.1685\n",
        "4) accuracy = 0.1955\n",
        "5) accuracy = 0.2235"
       ]
      },
      {
       "output_type": "stream",
       "stream": "stdout",
       "text": [
        "\n",
        "6) accuracy = 0.2565\n",
        "7) accuracy = 0.2900\n",
        "8) accuracy = 0.3265"
       ]
      },
      {
       "output_type": "stream",
       "stream": "stdout",
       "text": [
        "\n",
        "9) accuracy = 0.3650\n",
        "10) accuracy = 0.3980\n",
        "11) accuracy = 0.4320\n",
        "12) accuracy = 0.4620"
       ]
      },
      {
       "output_type": "stream",
       "stream": "stdout",
       "text": [
        "\n",
        "13) accuracy = 0.4875\n",
        "14) accuracy = 0.5130\n",
        "15) accuracy = 0.5395"
       ]
      },
      {
       "output_type": "stream",
       "stream": "stdout",
       "text": [
        "\n",
        "16) accuracy = 0.5610\n",
        "17) accuracy = 0.5785\n",
        "18) accuracy = 0.5910\n",
        "19) accuracy = 0.6045"
       ]
      },
      {
       "output_type": "stream",
       "stream": "stdout",
       "text": [
        "\n",
        "20) accuracy = 0.6090\n",
        "21) accuracy = 0.6210\n",
        "22) accuracy = 0.6265\n",
        "23) accuracy = 0.6365"
       ]
      },
      {
       "output_type": "stream",
       "stream": "stdout",
       "text": [
        "\n",
        "24) accuracy = 0.6445\n",
        "25) accuracy = 0.6505\n",
        "26) accuracy = 0.6555\n",
        "27) accuracy = 0.6580"
       ]
      },
      {
       "output_type": "stream",
       "stream": "stdout",
       "text": [
        "\n",
        "28) accuracy = 0.6625\n",
        "29) accuracy = 0.6690\n",
        "30) accuracy = 0.6730\n",
        "31) accuracy = 0.6765"
       ]
      },
      {
       "output_type": "stream",
       "stream": "stdout",
       "text": [
        "\n",
        "32) accuracy = 0.6810\n",
        "33) accuracy = 0.6890\n",
        "34) accuracy = 0.6915\n",
        "35) accuracy = 0.6955"
       ]
      },
      {
       "output_type": "stream",
       "stream": "stdout",
       "text": [
        "\n",
        "36) accuracy = 0.6970\n",
        "37) accuracy = 0.7000\n",
        "38) accuracy = 0.7030\n",
        "39) accuracy = 0.7060"
       ]
      },
      {
       "output_type": "stream",
       "stream": "stdout",
       "text": [
        "\n",
        "40) accuracy = 0.7075\n",
        "41) accuracy = 0.7110\n",
        "42) accuracy = 0.7115\n",
        "43) accuracy = 0.7130"
       ]
      },
      {
       "output_type": "stream",
       "stream": "stdout",
       "text": [
        "\n",
        "44) accuracy = 0.7145\n",
        "45) accuracy = 0.7175\n",
        "46) accuracy = 0.7210\n",
        "47) accuracy = 0.7235"
       ]
      },
      {
       "output_type": "stream",
       "stream": "stdout",
       "text": [
        "\n",
        "48) accuracy = 0.7260\n",
        "49) accuracy = 0.7255\n",
        "50) accuracy = 0.7265\n",
        "train time = 0.49\n",
        "predict time = 0.00"
       ]
      },
      {
       "output_type": "stream",
       "stream": "stdout",
       "text": [
        "\n"
       ]
      }
     ],
     "prompt_number": 19
    },
    {
     "cell_type": "code",
     "collapsed": false,
     "input": [
      "## Let's switch to SGD and observe the impact. \n",
      "\n",
      "## (1) Parms\n",
      "w = theano.shared(np.asarray((np.random.randn(*(numFeatures, numClasses))*.01)))\n",
      "\n",
      "## (2) Model\n",
      "X = T.matrix()\n",
      "Y = T.matrix()\n",
      "def model(X, w):\n",
      "    return T.nnet.softmax(T.dot(X, w))\n",
      "y_hat = model(X, w)\n",
      "\n",
      "## (3) Cost\n",
      "cost = T.mean(T.nnet.categorical_crossentropy(y_hat, Y))\n",
      "\n",
      "## (4) Objective\n",
      "alpha = 0.01\n",
      "gradient = T.grad(cost=cost, wrt=w)\n",
      "update = [[w, w - gradient * alpha]] \n",
      "train = theano.function(inputs=[X, Y], outputs=cost, updates=update, allow_input_downcast=True) \n",
      "y_pred = T.argmax(y_hat, axis=1) \n",
      "predict = theano.function(inputs=[X], outputs=y_pred, allow_input_downcast=True)\n",
      "\n",
      "## Play with this value and notice the impact.\n",
      "miniBatchSize = 1 \n",
      "def gradientDescentStochastic(epochs):\n",
      "    trainTime = 0.0\n",
      "    predictTime = 0.0\n",
      "    start_time = time.time()\n",
      "    for i in range(epochs):       \n",
      "        for start, end in zip(range(0, len(train_data), miniBatchSize), range(miniBatchSize, len(train_data), miniBatchSize)):\n",
      "            cost = train(train_data[start:end], train_labels_b[start:end])\n",
      "        trainTime =  trainTime + (time.time() - start_time)\n",
      "        print '%d) accuracy = %.4f' %(i+1, np.mean(np.argmax(test_labels_b, axis=1) == predict(test_data)))     \n",
      "    print 'train time = %.2f' %(trainTime)\n",
      "    \n",
      "gradientDescentStochastic(10)\n",
      "\n",
      "start_time = time.time()\n",
      "predict(test_data)   \n",
      "print 'predict time = %.2f' %(time.time() - start_time)"
     ],
     "language": "python",
     "metadata": {},
     "outputs": [
      {
       "output_type": "stream",
       "stream": "stdout",
       "text": [
        "1) accuracy = 0.8445\n",
        "2) accuracy = 0.8640"
       ]
      },
      {
       "output_type": "stream",
       "stream": "stdout",
       "text": [
        "\n",
        "3) accuracy = 0.8710"
       ]
      },
      {
       "output_type": "stream",
       "stream": "stdout",
       "text": [
        "\n",
        "4) accuracy = 0.8720"
       ]
      },
      {
       "output_type": "stream",
       "stream": "stdout",
       "text": [
        "\n",
        "5) accuracy = 0.8705"
       ]
      },
      {
       "output_type": "stream",
       "stream": "stdout",
       "text": [
        "\n",
        "6) accuracy = 0.8695"
       ]
      },
      {
       "output_type": "stream",
       "stream": "stdout",
       "text": [
        "\n",
        "7) accuracy = 0.8695"
       ]
      },
      {
       "output_type": "stream",
       "stream": "stdout",
       "text": [
        "\n",
        "8) accuracy = 0.8685"
       ]
      },
      {
       "output_type": "stream",
       "stream": "stdout",
       "text": [
        "\n",
        "9) accuracy = 0.8705"
       ]
      },
      {
       "output_type": "stream",
       "stream": "stdout",
       "text": [
        "\n",
        "10) accuracy = 0.8715"
       ]
      },
      {
       "output_type": "stream",
       "stream": "stdout",
       "text": [
        "\n",
        "train time = 7.91\n",
        "predict time = 0.00\n"
       ]
      }
     ],
     "prompt_number": 20
    },
    {
     "cell_type": "code",
     "collapsed": false,
     "input": [
      "## Now let's add a hidden layer (two layer neural net).\n",
      "\n",
      "## (1) Parms\n",
      "# Try playing with this value.\n",
      "numHiddenNodes = 600 \n",
      "w_1 = theano.shared(np.asarray((np.random.randn(*(numFeatures, numHiddenNodes))*.01)))\n",
      "w_2 = theano.shared(np.asarray((np.random.randn(*(numHiddenNodes, numClasses))*.01)))\n",
      "params = [w_1, w_2]\n",
      "\n",
      "\n",
      "## (2) Model\n",
      "X = T.matrix()\n",
      "Y = T.matrix()\n",
      "# Two notes:\n",
      "# First, feed forward is the composition of layers (dot product + activation function)\n",
      "# Second, activation on the hidden layer still uses sigmoid\n",
      "def model(X, w_1, w_2):\n",
      "    return T.nnet.softmax(T.dot(T.nnet.sigmoid(T.dot(X, w_1)), w_2))\n",
      "y_hat = model(X, w_1, w_2)\n",
      "\n",
      "\n",
      "## (3) Cost...same as logistic regression\n",
      "cost = T.mean(T.nnet.categorical_crossentropy(y_hat, Y))\n",
      "\n",
      "\n",
      "## (4) Minimization.  Update rule changes to backpropagation.\n",
      "alpha = 0.01\n",
      "def backprop(cost, w):\n",
      "    grads = T.grad(cost=cost, wrt=w)\n",
      "    updates = []\n",
      "    for w1, grad in zip(w, grads):\n",
      "        updates.append([w1, w1 - grad * alpha])\n",
      "    return updates\n",
      "update = backprop(cost, params)\n",
      "train = theano.function(inputs=[X, Y], outputs=cost, updates=update, allow_input_downcast=True)\n",
      "y_pred = T.argmax(y_hat, axis=1)\n",
      "predict = theano.function(inputs=[X], outputs=y_pred, allow_input_downcast=True)\n",
      "\n",
      "miniBatchSize = 1 \n",
      "def gradientDescentStochastic(epochs):\n",
      "    trainTime = 0.0\n",
      "    predictTime = 0.0\n",
      "    start_time = time.time()\n",
      "    for i in range(epochs):\n",
      "        for start, end in zip(range(0, len(train_data), miniBatchSize), range(miniBatchSize, len(train_data), miniBatchSize)):\n",
      "            cost = train(train_data[start:end], train_labels_b[start:end])\n",
      "        trainTime =  trainTime + (time.time() - start_time)\n",
      "        print '%d) accuracy = %.4f' %(i+1, np.mean(np.argmax(test_labels_b, axis=1) == predict(test_data)))\n",
      "    print 'train time = %.2f' %(trainTime)\n",
      "\n",
      "gradientDescentStochastic(10)\n",
      "\n",
      "start_time = time.time()\n",
      "predict(test_data)   \n",
      "print 'predict time = %.2f' %(time.time() - start_time)"
     ],
     "language": "python",
     "metadata": {},
     "outputs": [
      {
       "output_type": "stream",
       "stream": "stdout",
       "text": [
        "1) accuracy = 0.2505\n",
        "2) accuracy = 0.6845"
       ]
      },
      {
       "output_type": "stream",
       "stream": "stdout",
       "text": [
        "\n",
        "3) accuracy = 0.7795"
       ]
      },
      {
       "output_type": "stream",
       "stream": "stdout",
       "text": [
        "\n",
        "4) accuracy = 0.8170"
       ]
      },
      {
       "output_type": "stream",
       "stream": "stdout",
       "text": [
        "\n",
        "5) accuracy = 0.8370"
       ]
      },
      {
       "output_type": "stream",
       "stream": "stdout",
       "text": [
        "\n",
        "6) accuracy = 0.8535"
       ]
      },
      {
       "output_type": "stream",
       "stream": "stdout",
       "text": [
        "\n",
        "7) accuracy = 0.8625"
       ]
      },
      {
       "output_type": "stream",
       "stream": "stdout",
       "text": [
        "\n",
        "8) accuracy = 0.8645"
       ]
      },
      {
       "output_type": "stream",
       "stream": "stdout",
       "text": [
        "\n",
        "9) accuracy = 0.8655"
       ]
      },
      {
       "output_type": "stream",
       "stream": "stdout",
       "text": [
        "\n",
        "10) accuracy = 0.8680"
       ]
      },
      {
       "output_type": "stream",
       "stream": "stdout",
       "text": [
        "\n",
        "train time = 140.46\n",
        "predict time = 0.07"
       ]
      },
      {
       "output_type": "stream",
       "stream": "stdout",
       "text": [
        "\n"
       ]
      }
     ],
     "prompt_number": 21
    },
    {
     "cell_type": "heading",
     "level": 4,
     "metadata": {},
     "source": [
      "PART 2: Ideas from 2010 onward"
     ]
    },
    {
     "cell_type": "markdown",
     "metadata": {},
     "source": [
      "As interest in bigger and deeper networks has increased, a couple of tricks have emerged and become standard practice.  Let's look at two of those--rectifier activation and dropout noise--that we'll use with deep networks.\n",
      "\n",
      "For a more in-depth examination of the topic, check out this 1-day tutorial from KDD2014:\n",
      "\n",
      "Part 1: http://videolectures.net/kdd2014_bengio_deep_learning/\n",
      "\n",
      "Part 2: http://videolectures.net/tcmm2014_taylor_deep_learning/"
     ]
    },
    {
     "cell_type": "code",
     "collapsed": false,
     "input": [
      "## A curiousity: what happens if we simply add a third layer?\n",
      "\n",
      "## (1) Parms\n",
      "numHiddenNodes = 600 \n",
      "w_1 = theano.shared(np.asarray((np.random.randn(*(numFeatures, numHiddenNodes))*.01)))\n",
      "w_2 = theano.shared(np.asarray((np.random.randn(*(numHiddenNodes, numHiddenNodes))*.01)))\n",
      "w_3 = theano.shared(np.asarray((np.random.randn(*(numHiddenNodes, numClasses))*.01)))\n",
      "params = [w_1, w_2, w_3]\n",
      "\n",
      "## (2) Model\n",
      "X = T.matrix()\n",
      "Y = T.matrix()\n",
      "def model(X, w_1, w_2, w_3):\n",
      "    return T.nnet.softmax(T.dot(T.nnet.sigmoid(T.dot(T.nnet.sigmoid(T.dot(X, w_1)), w_2)), w_3))\n",
      "y_hat = model(X, w_1, w_2, w_3)\n",
      "\n",
      "\n",
      "## (3) Cost...same as logistic regression\n",
      "cost = T.mean(T.nnet.categorical_crossentropy(y_hat, Y))\n",
      "\n",
      "\n",
      "## (4) Minimization.  Update rule changes to backpropagation.\n",
      "alpha = 0.01\n",
      "def backprop(cost, w):\n",
      "    grads = T.grad(cost=cost, wrt=w)\n",
      "    updates = []\n",
      "    for w1, grad in zip(w, grads):\n",
      "        updates.append([w1, w1 - grad * alpha])\n",
      "    return updates\n",
      "update = backprop(cost, params)\n",
      "train = theano.function(inputs=[X, Y], outputs=cost, updates=update, allow_input_downcast=True)\n",
      "y_pred = T.argmax(y_hat, axis=1)\n",
      "predict = theano.function(inputs=[X], outputs=y_pred, allow_input_downcast=True)\n",
      "\n",
      "miniBatchSize = 1 \n",
      "def gradientDescentStochastic(epochs):\n",
      "    trainTime = 0.0\n",
      "    predictTime = 0.0\n",
      "    start_time = time.time()\n",
      "    for i in range(epochs):\n",
      "        for start, end in zip(range(0, len(train_data), miniBatchSize), range(miniBatchSize, len(train_data), miniBatchSize)):\n",
      "            cost = train(train_data[start:end], train_labels_b[start:end])\n",
      "        trainTime =  trainTime + (time.time() - start_time)\n",
      "        print '%d) accuracy = %.4f' %(i+1, np.mean(np.argmax(test_labels_b, axis=1) == predict(test_data)))\n",
      "    print 'train time = %.2f' %(trainTime)\n",
      "\n",
      "gradientDescentStochastic(10)\n",
      "\n",
      "start_time = time.time()\n",
      "predict(test_data)   \n",
      "print 'predict time = %.2f' %(time.time() - start_time)"
     ],
     "language": "python",
     "metadata": {},
     "outputs": [
      {
       "output_type": "stream",
       "stream": "stdout",
       "text": [
        "1) accuracy = 0.1045\n",
        "2) accuracy = 0.1045"
       ]
      },
      {
       "output_type": "stream",
       "stream": "stdout",
       "text": [
        "\n",
        "3) accuracy = 0.1045"
       ]
      },
      {
       "output_type": "stream",
       "stream": "stdout",
       "text": [
        "\n",
        "4) accuracy = 0.1045"
       ]
      },
      {
       "output_type": "stream",
       "stream": "stdout",
       "text": [
        "\n",
        "5) accuracy = 0.1045"
       ]
      },
      {
       "output_type": "stream",
       "stream": "stdout",
       "text": [
        "\n",
        "6) accuracy = 0.1045"
       ]
      },
      {
       "output_type": "stream",
       "stream": "stdout",
       "text": [
        "\n",
        "7) accuracy = 0.1045"
       ]
      },
      {
       "output_type": "stream",
       "stream": "stdout",
       "text": [
        "\n",
        "8) accuracy = 0.1045"
       ]
      },
      {
       "output_type": "stream",
       "stream": "stdout",
       "text": [
        "\n",
        "9) accuracy = 0.1045"
       ]
      },
      {
       "output_type": "stream",
       "stream": "stdout",
       "text": [
        "\n",
        "10) accuracy = 0.1630"
       ]
      },
      {
       "output_type": "stream",
       "stream": "stdout",
       "text": [
        "\n",
        "train time = 300.86\n",
        "predict time = 0.13"
       ]
      },
      {
       "output_type": "stream",
       "stream": "stdout",
       "text": [
        "\n"
       ]
      }
     ],
     "prompt_number": 22
    },
    {
     "cell_type": "heading",
     "level": 4,
     "metadata": {},
     "source": [
      "Activation Revisted"
     ]
    },
    {
     "cell_type": "markdown",
     "metadata": {},
     "source": [
      "Before we revisit adding layers, let's look at a recent idea around activation closely associated with deep learning.  In 2010, in a paper published at NIPS (https://www.utc.fr/~bordesan/dokuwiki/_media/en/glorot10nipsworkshop.pdf), Yoshua Bengio showed that rectifier activation works better empirically than sigmoid activation when used in the hidden layers.  \n",
      "\n",
      "The rectifier activation is simple: f(x)=max(0,x).  Intuitively, the difference is that as a sigmoid activated node approaches 1 it stops learning even if error continues to be propagated to it, whereas the rectifier activated node continue to learn (at least in the positive direction).  It is not completely understood (per Yoshua Bengio) why this helps, but there are some theories being explored including as related to the benefits of sparse representations in networks. (http://www.iro.umontreal.ca/~bengioy/talks/KDD2014-tutorial.pdf).  Rectifiers also speed up training.\n",
      "\n",
      "Although the paper was published in 2010, the technique didn't gain widespread adoption until 2012 when members of Hinton's group spread the word, including with this Kaggle entry: http://blog.kaggle.com/2012/11/01/deep-learning-how-i-did-it-merck-1st-place-interview/"
     ]
    },
    {
     "cell_type": "code",
     "collapsed": false,
     "input": [
      "## 2-layer NN with rectify activation on the hidden layer.\n",
      "\n",
      "## (1) Parms\n",
      "numHiddenNodes = 600 \n",
      "w_1 = theano.shared(np.asarray((np.random.randn(*(numFeatures, numHiddenNodes))*.01)))\n",
      "w_2 = theano.shared(np.asarray((np.random.randn(*(numHiddenNodes, numClasses))*.01)))\n",
      "params = [w_1, w_2]\n",
      "\n",
      "\n",
      "## (2) Model\n",
      "X = T.matrix()\n",
      "Y = T.matrix()\n",
      "\n",
      "def model(X, w_1, w_2):\n",
      "    return T.nnet.softmax(T.dot(T.maximum(T.dot(X, w_1), 0.), w_2))\n",
      "y_hat = model(X, w_1, w_2)\n",
      "\n",
      "\n",
      "## (3) Cost...same as logistic regression\n",
      "cost = T.mean(T.nnet.categorical_crossentropy(y_hat, Y))\n",
      "\n",
      "\n",
      "## (4) Minimization.  Update rule changes to backpropagation.\n",
      "alpha = 0.01\n",
      "def backprop(cost, w):\n",
      "    grads = T.grad(cost=cost, wrt=w)\n",
      "    updates = []\n",
      "    for w1, grad in zip(w, grads):\n",
      "        updates.append([w1, w1 - grad * alpha])\n",
      "    return updates\n",
      "update = backprop(cost, params)\n",
      "train = theano.function(inputs=[X, Y], outputs=cost, updates=update, allow_input_downcast=True)\n",
      "y_pred = T.argmax(y_hat, axis=1)\n",
      "predict = theano.function(inputs=[X], outputs=y_pred, allow_input_downcast=True)\n",
      "\n",
      "miniBatchSize = 1 \n",
      "def gradientDescentStochastic(epochs):\n",
      "    trainTime = 0.0\n",
      "    predictTime = 0.0\n",
      "    start_time = time.time()\n",
      "    for i in range(epochs):\n",
      "        for start, end in zip(range(0, len(train_data), miniBatchSize), range(miniBatchSize, len(train_data), miniBatchSize)):\n",
      "            cost = train(train_data[start:end], train_labels_b[start:end])\n",
      "        trainTime =  trainTime + (time.time() - start_time)\n",
      "        print '%d) accuracy = %.4f' %(i+1, np.mean(np.argmax(test_labels_b, axis=1) == predict(test_data)))\n",
      "    print 'train time = %.2f' %(trainTime)\n",
      "\n",
      "gradientDescentStochastic(10)\n",
      "\n",
      "start_time = time.time()\n",
      "predict(test_data)   \n",
      "print 'predict time = %.2f' %(time.time() - start_time)"
     ],
     "language": "python",
     "metadata": {},
     "outputs": [
      {
       "output_type": "stream",
       "stream": "stdout",
       "text": [
        "1) accuracy = 0.8220\n",
        "2) accuracy = 0.8615"
       ]
      },
      {
       "output_type": "stream",
       "stream": "stdout",
       "text": [
        "\n",
        "3) accuracy = 0.8720"
       ]
      },
      {
       "output_type": "stream",
       "stream": "stdout",
       "text": [
        "\n",
        "4) accuracy = 0.8755"
       ]
      },
      {
       "output_type": "stream",
       "stream": "stdout",
       "text": [
        "\n",
        "5) accuracy = 0.8810"
       ]
      },
      {
       "output_type": "stream",
       "stream": "stdout",
       "text": [
        "\n",
        "6) accuracy = 0.8840"
       ]
      },
      {
       "output_type": "stream",
       "stream": "stdout",
       "text": [
        "\n",
        "7) accuracy = 0.8930"
       ]
      },
      {
       "output_type": "stream",
       "stream": "stdout",
       "text": [
        "\n",
        "8) accuracy = 0.8980"
       ]
      },
      {
       "output_type": "stream",
       "stream": "stdout",
       "text": [
        "\n",
        "9) accuracy = 0.9015"
       ]
      },
      {
       "output_type": "stream",
       "stream": "stdout",
       "text": [
        "\n",
        "10) accuracy = 0.9020"
       ]
      },
      {
       "output_type": "stream",
       "stream": "stdout",
       "text": [
        "\n",
        "train time = 130.99\n",
        "predict time = 0.07"
       ]
      },
      {
       "output_type": "stream",
       "stream": "stdout",
       "text": [
        "\n"
       ]
      }
     ],
     "prompt_number": 23
    },
    {
     "cell_type": "heading",
     "level": 4,
     "metadata": {},
     "source": [
      "Maxout"
     ]
    },
    {
     "cell_type": "markdown",
     "metadata": {},
     "source": [
      "As an exercise, switch to Maxout (or Max Pooling) activiation.  Maxout activation just selects the max input as the output.  Maxout is a type of pooling, a technique which performs particularly well for vision problems. (http://jmlr.org/proceedings/papers/v28/goodfellow13.pdf, http://www.quora.com/What-is-impact-of-different-pooling-methods-in-convolutional-neural-networks).  "
     ]
    },
    {
     "cell_type": "heading",
     "level": 4,
     "metadata": {},
     "source": [
      "Noise"
     ]
    },
    {
     "cell_type": "markdown",
     "metadata": {},
     "source": [
      "A second trick closely associated with deep learning, and that is now commonplace, is called 'Dropouts'.  The idea is that instead of (or in addition to) adding noise to our inputs, we add noise by having each node return 0 with a certain probability during training.  This trick both improves generalization in large networks and speeds up training.\n",
      "\n",
      "Hinton introduced the idea in 2012 and gave an explanation of why it's similar to bagging (http://arxiv.org/pdf/1207.0580v1.pdf)"
     ]
    },
    {
     "cell_type": "code",
     "collapsed": false,
     "input": [
      "# Dropouts\n",
      "from theano.sandbox.rng_mrg import MRG_RandomStreams as RandomStreams\n",
      "\n",
      "## (1) Parms\n",
      "numHiddenNodes = 600 \n",
      "w_1 = theano.shared(np.asarray((np.random.randn(*(numFeatures, numHiddenNodes))*.01)))\n",
      "w_2 = theano.shared(np.asarray((np.random.randn(*(numHiddenNodes, numClasses))*.01)))\n",
      "params = [w_1, w_2]\n",
      "\n",
      "\n",
      "## (2) Model\n",
      "X = T.matrix()\n",
      "Y = T.matrix()\n",
      "srng = RandomStreams()\n",
      "def dropout(X, p=0.):\n",
      "    if p > 0:\n",
      "        X *= srng.binomial(X.shape, p=1 - p)\n",
      "        X /= 1 - p\n",
      "    return X\n",
      "\n",
      "def model(X, w_1, w_2, p_1, p_2):\n",
      "    return T.nnet.softmax(T.dot(dropout(T.maximum(T.dot(dropout(X, p_1), w_1),0.), p_2), w_2))\n",
      "\n",
      "y_hat_train = model(X, w_1, w_2, 0.2, 0.5)\n",
      "y_hat_predict = model(X, w_1, w_2, 0., 0.)\n",
      "\n",
      "## (3) Cost...same as logistic regression\n",
      "cost = T.mean(T.nnet.categorical_crossentropy(y_hat_train, Y))\n",
      "\n",
      "## (4) Minimization.  Update rule changes to backpropagation.\n",
      "alpha = 0.01\n",
      "def backprop(cost, w):\n",
      "    grads = T.grad(cost=cost, wrt=w)\n",
      "    updates = []\n",
      "    for w1, grad in zip(w, grads):\n",
      "        updates.append([w1, w1 - grad * alpha])\n",
      "    return updates\n",
      "update = backprop(cost, params)\n",
      "train = theano.function(inputs=[X, Y], outputs=cost, updates=update, allow_input_downcast=True)\n",
      "y_pred = T.argmax(y_hat_predict, axis=1)\n",
      "predict = theano.function(inputs=[X], outputs=y_pred, allow_input_downcast=True)\n",
      "\n",
      "\n",
      "miniBatchSize = 1\n",
      "def gradientDescentStochastic(epochs):\n",
      "    trainTime = 0.0\n",
      "    predictTime = 0.0\n",
      "    start_time = time.time()\n",
      "    for i in range(epochs):\n",
      "        for start, end in zip(range(0, len(train_data), miniBatchSize), range(miniBatchSize, len(train_data), miniBatchSize)):\n",
      "            cost = train(train_data[start:end], train_labels_b[start:end])\n",
      "        trainTime =  trainTime + (time.time() - start_time)\n",
      "        print '%d) accuracy = %.4f' %(i+1, np.mean(np.argmax(test_labels_b, axis=1) == predict(test_data)))\n",
      "    print 'train time = %.2f' %(trainTime)\n",
      "\n",
      "gradientDescentStochastic(10)\n",
      "\n",
      "start_time = time.time()\n",
      "predict(test_data)   \n",
      "print 'predict time = %.2f' %(time.time() - start_time)"
     ],
     "language": "python",
     "metadata": {},
     "outputs": [
      {
       "output_type": "stream",
       "stream": "stdout",
       "text": [
        "1) accuracy = 0.8160\n",
        "2) accuracy = 0.8530"
       ]
      },
      {
       "output_type": "stream",
       "stream": "stdout",
       "text": [
        "\n",
        "3) accuracy = 0.8775"
       ]
      },
      {
       "output_type": "stream",
       "stream": "stdout",
       "text": [
        "\n",
        "4) accuracy = 0.8840"
       ]
      },
      {
       "output_type": "stream",
       "stream": "stdout",
       "text": [
        "\n",
        "5) accuracy = 0.8725"
       ]
      },
      {
       "output_type": "stream",
       "stream": "stdout",
       "text": [
        "\n",
        "6) accuracy = 0.8975"
       ]
      },
      {
       "output_type": "stream",
       "stream": "stdout",
       "text": [
        "\n",
        "7) accuracy = 0.8985"
       ]
      },
      {
       "output_type": "stream",
       "stream": "stdout",
       "text": [
        "\n",
        "8) accuracy = 0.9035"
       ]
      },
      {
       "output_type": "stream",
       "stream": "stdout",
       "text": [
        "\n",
        "9) accuracy = 0.9090"
       ]
      },
      {
       "output_type": "stream",
       "stream": "stdout",
       "text": [
        "\n",
        "10) accuracy = 0.9140"
       ]
      },
      {
       "output_type": "stream",
       "stream": "stdout",
       "text": [
        "\n",
        "train time = 156.16\n",
        "predict time = 0.06"
       ]
      },
      {
       "output_type": "stream",
       "stream": "stdout",
       "text": [
        "\n"
       ]
      }
     ],
     "prompt_number": 24
    },
    {
     "cell_type": "code",
     "collapsed": false,
     "input": [
      "# Let's add back in that third layer\n",
      "from theano.sandbox.rng_mrg import MRG_RandomStreams as RandomStreams\n",
      "\n",
      "## (1) Parms\n",
      "numHiddenNodes = 600 \n",
      "w_1 = theano.shared(np.asarray((np.random.randn(*(numFeatures, numHiddenNodes))*.01)))\n",
      "w_2 = theano.shared(np.asarray((np.random.randn(*(numHiddenNodes, numHiddenNodes))*.01)))\n",
      "w_3 = theano.shared(np.asarray((np.random.randn(*(numHiddenNodes, numClasses))*.01)))\n",
      "params = [w_1, w_2, w_3]\n",
      "\n",
      "\n",
      "## (2) Model\n",
      "X = T.matrix()\n",
      "Y = T.matrix()\n",
      "\n",
      "srng = RandomStreams()\n",
      "def dropout(X, p=0.):\n",
      "    if p > 0:\n",
      "        X *= srng.binomial(X.shape, p=1 - p)\n",
      "        X /= 1 - p\n",
      "    return X\n",
      "\n",
      "def model(X, w_1, w_2, w_3, p_1, p_2, p_3):\n",
      "    return T.nnet.softmax(T.dot(dropout(T.maximum(T.dot(dropout(T.maximum(T.dot(dropout(X, p_1), w_1),0.), p_2), w_2),0.), p_3), w_3))\n",
      "\n",
      "y_hat_train = model(X, w_1, w_2, w_3, 0.2, 0.5,0.5)\n",
      "y_hat_predict = model(X, w_1, w_2, w_3, 0., 0.,0.)\n",
      "\n",
      "## (3) Cost...same as logistic regression\n",
      "cost = T.mean(T.nnet.categorical_crossentropy(y_hat_train, Y))\n",
      "\n",
      "\n",
      "## (4) Minimization.  Update rule changes to backpropagation.\n",
      "alpha = 0.01\n",
      "def backprop(cost, w):\n",
      "    grads = T.grad(cost=cost, wrt=w)\n",
      "    updates = []\n",
      "    for w1, grad in zip(w, grads):\n",
      "        updates.append([w1, w1 - grad * alpha])\n",
      "    return updates\n",
      "update = backprop(cost, params)\n",
      "train = theano.function(inputs=[X, Y], outputs=cost, updates=update, allow_input_downcast=True)\n",
      "y_pred = T.argmax(y_hat_predict, axis=1)\n",
      "predict = theano.function(inputs=[X], outputs=y_pred, allow_input_downcast=True)\n",
      "\n",
      "miniBatchSize = 1\n",
      "def gradientDescentStochastic(epochs):\n",
      "    trainTime = 0.0\n",
      "    predictTime = 0.0\n",
      "    start_time = time.time()\n",
      "    for i in range(epochs):\n",
      "        for start, end in zip(range(0, len(train_data), miniBatchSize), range(miniBatchSize, len(train_data), miniBatchSize)):\n",
      "            cost = train(train_data[start:end], train_labels_b[start:end])\n",
      "        trainTime =  trainTime + (time.time() - start_time)\n",
      "        print '%d) accuracy = %.4f' %(i+1, np.mean(np.argmax(test_labels_b, axis=1) == predict(test_data)))\n",
      "    print 'train time = %.2f' %(trainTime)\n",
      "\n",
      "gradientDescentStochastic(10)\n",
      "\n",
      "start_time = time.time()\n",
      "predict(test_data)   \n",
      "print 'predict time = %.2f' %(time.time() - start_time)"
     ],
     "language": "python",
     "metadata": {},
     "outputs": [
      {
       "output_type": "stream",
       "stream": "stdout",
       "text": [
        "1) accuracy = 0.6045\n",
        "2) accuracy = 0.7655"
       ]
      },
      {
       "output_type": "stream",
       "stream": "stdout",
       "text": [
        "\n",
        "3) accuracy = 0.8645"
       ]
      },
      {
       "output_type": "stream",
       "stream": "stdout",
       "text": [
        "\n",
        "4) accuracy = 0.8720"
       ]
      },
      {
       "output_type": "stream",
       "stream": "stdout",
       "text": [
        "\n",
        "5) accuracy = 0.8865"
       ]
      },
      {
       "output_type": "stream",
       "stream": "stdout",
       "text": [
        "\n",
        "6) accuracy = 0.8935"
       ]
      },
      {
       "output_type": "stream",
       "stream": "stdout",
       "text": [
        "\n",
        "7) accuracy = 0.8975"
       ]
      },
      {
       "output_type": "stream",
       "stream": "stdout",
       "text": [
        "\n",
        "8) accuracy = 0.9065"
       ]
      },
      {
       "output_type": "stream",
       "stream": "stdout",
       "text": [
        "\n",
        "9) accuracy = 0.9155"
       ]
      },
      {
       "output_type": "stream",
       "stream": "stdout",
       "text": [
        "\n",
        "10) accuracy = 0.9070"
       ]
      },
      {
       "output_type": "stream",
       "stream": "stdout",
       "text": [
        "\n",
        "train time = 322.41\n",
        "predict time = 0.10"
       ]
      },
      {
       "output_type": "stream",
       "stream": "stdout",
       "text": [
        "\n"
       ]
      }
     ],
     "prompt_number": 25
    },
    {
     "cell_type": "heading",
     "level": 4,
     "metadata": {},
     "source": [
      "Part 3: Convolutional Neural Nets"
     ]
    },
    {
     "cell_type": "markdown",
     "metadata": {},
     "source": [
      "Today, when the phrase 'deep learning' is used to describe a system, it most likely is a convolution net (or convonet).  The convonet architechture was largely developed in the late 90's at Bell Labs, but only very recently popularized.  It was developed for image recognition, and is described and implemented with 2d representations in mind.\n",
      "\n",
      "Geoffrey Hinton has an excellent two-part lecture on the topic:\n",
      "\n",
      "https://www.youtube.com/watch?v=6oD3t6u5EPs\n",
      "\n",
      "https://www.youtube.com/watch?v=fueIAeAsGzA\n",
      "\n",
      "Also, this code was partly taken from these tutorials, which are worth referring back to:\n",
      "\n",
      "http://deeplearning.net/tutorial/lenet.html\n",
      "\n",
      "http://ufldl.stanford.edu/tutorial/supervised/FeatureExtractionUsingConvolution/\n",
      "\n",
      "https://www.youtube.com/watch?v=S75EdAcXHKk\n",
      "\n",
      "http://danielnouri.org/notes/2014/12/17/using-convolutional-neural-nets-to-detect-facial-keypoints-tutorial/"
     ]
    },
    {
     "cell_type": "code",
     "collapsed": false,
     "input": [
      "# Let's add back in that third layer\n",
      "from theano.sandbox.rng_mrg import MRG_RandomStreams as RandomStreams\n",
      "from theano.tensor.nnet.conv import conv2d\n",
      "from theano.tensor.signal.downsample import max_pool_2d\n",
      "\n",
      "## (1) Parms\n",
      "numHiddenNodes = 600 \n",
      "patchWidth = 3\n",
      "patchHeight = 3\n",
      "featureMapsLayer1 = 32\n",
      "featureMapsLayer2 = 64\n",
      "featureMapsLayer3 = 128\n",
      "\n",
      "# For convonets, we will work in 2d rather than 1d.  The MNIST images are 28x28 in 2d.\n",
      "imageWidth = 28\n",
      "train_data = train_data.reshape(-1, 1, imageWidth, imageWidth)\n",
      "test_data = test_data.reshape(-1, 1, imageWidth, imageWidth)\n",
      "\n",
      "# Convolution layers.  \n",
      "w_1 = theano.shared(np.asarray((np.random.randn(*(featureMapsLayer1, 1, patchWidth, patchHeight))*.01)))\n",
      "w_2 = theano.shared(np.asarray((np.random.randn(*(featureMapsLayer2, featureMapsLayer1, patchWidth, patchHeight))*.01)))\n",
      "w_3 = theano.shared(np.asarray((np.random.randn(*(featureMapsLayer3, featureMapsLayer2, patchWidth, patchHeight))*.01)))\n",
      "\n",
      "# Fully connected NN. \n",
      "w_4 = theano.shared(np.asarray((np.random.randn(*(featureMapsLayer3 * patchWidth * patchHeight, numHiddenNodes))*.01)))\n",
      "w_5 = theano.shared(np.asarray((np.random.randn(*(numHiddenNodes, numClasses))*.01)))\n",
      "params = [w_1, w_2, w_3, w_4, w_5]\n",
      "\n",
      "## (2) Model\n",
      "X = T.tensor4() # conv2d works with tensor4 type\n",
      "Y = T.matrix()\n",
      "\n",
      "srng = RandomStreams()\n",
      "def dropout(X, p=0.):\n",
      "    if p > 0:\n",
      "        X *= srng.binomial(X.shape, p=1 - p)\n",
      "        X /= 1 - p\n",
      "    return X\n",
      "\n",
      "# Theano provides built-in support for add convolutional layers\n",
      "def model(X, w_1, w_2, w_3, w_4, w_5, p_1, p_2):\n",
      "    l1 = dropout(max_pool_2d(T.maximum(conv2d(X, w_1, border_mode='full'),0.), (2, 2)), p_1)\n",
      "    l2 = dropout(max_pool_2d(T.maximum(conv2d(l1, w_2), 0.), (2, 2)), p_1)\n",
      "    l3 = dropout(T.flatten(max_pool_2d(T.maximum(conv2d(l2, w_3), 0.), (2, 2)), outdim=2), p_1) # flatten to switch back to 1d layers\n",
      "    l4 = dropout(T.maximum(T.dot(l3, w_4), 0.), p_2)\n",
      "    return T.nnet.softmax(T.dot(l4, w_5))\n",
      "\n",
      "y_hat_train = model(X, w_1, w_2, w_3, w_4, w_5, 0.2, 0.5)\n",
      "y_hat_predict = model(X, w_1, w_2, w_3, w_4, w_5, 0., 0.)\n",
      "y_x = T.argmax(y_hat, axis=1)\n",
      "\n",
      "## (3) Cost\n",
      "cost = T.mean(T.nnet.categorical_crossentropy(y_hat_train, Y))\n",
      "\n",
      "## (4) Minimization.  \n",
      "def backprop(cost, w, alpha=0.001, rho=0.9, epsilon=1e-6):\n",
      "    grads = T.grad(cost=cost, wrt=w)\n",
      "    updates = []\n",
      "    for w1, grad in zip(w, grads):\n",
      "        \n",
      "        # adeding gradient scaling\n",
      "        acc = theano.shared(w1.get_value() * 0.)\n",
      "        acc_new = rho * acc + (1 - rho) * grad ** 2\n",
      "        gradient_scaling = T.sqrt(acc_new + epsilon)\n",
      "        grad = grad / gradient_scaling\n",
      "        updates.append((acc, acc_new))\n",
      "        \n",
      "        updates.append((w1, w1 - grad * alpha))\n",
      "    return updates\n",
      "\n",
      "update = backprop(cost, params)\n",
      "train = theano.function(inputs=[X, Y], outputs=cost, updates=update, allow_input_downcast=True)\n",
      "y_pred = T.argmax(y_hat_predict, axis=1)\n",
      "predict = theano.function(inputs=[X], outputs=y_pred, allow_input_downcast=True)\n",
      "\n",
      "miniBatchSize = 1\n",
      "def gradientDescentStochastic(epochs):\n",
      "    trainTime = 0.0\n",
      "    predictTime = 0.0\n",
      "    start_time = time.time()\n",
      "    for i in range(epochs):\n",
      "        for start, end in zip(range(0, len(train_data), miniBatchSize), range(miniBatchSize, len(train_data), miniBatchSize)):\n",
      "            cost = train(train_data[start:end], train_labels_b[start:end])\n",
      "        trainTime =  trainTime + (time.time() - start_time)\n",
      "        print '%d) accuracy = %.4f' %(i+1, np.mean(np.argmax(test_labels_b, axis=1) == predict(test_data)))\n",
      "    print 'train time = %.2f' %(trainTime)\n",
      "\n",
      "gradientDescentStochastic(10)\n",
      "\n",
      "start_time = time.time()\n",
      "predict(test_data)   \n",
      "print 'predict time = %.2f' %(time.time() - start_time)"
     ],
     "language": "python",
     "metadata": {},
     "outputs": [
      {
       "output_type": "stream",
       "stream": "stdout",
       "text": [
        "1) accuracy = 0.7460\n",
        "2) accuracy = 0.8870"
       ]
      },
      {
       "output_type": "stream",
       "stream": "stdout",
       "text": [
        "\n",
        "3) accuracy = 0.9315"
       ]
      },
      {
       "output_type": "stream",
       "stream": "stdout",
       "text": [
        "\n",
        "4) accuracy = 0.9535"
       ]
      }
     ]
    },
    {
     "cell_type": "heading",
     "level": 4,
     "metadata": {},
     "source": [
      "Brain inspiration"
     ]
    },
    {
     "cell_type": "markdown",
     "metadata": {},
     "source": [
      "The architechture of the convonet was inspired by the visual cortext in the human brain.  If you are interested in learning more, check out: http://www-psych.stanford.edu/~ashas/Cognition%20Textbook/chapter2.pdf"
     ]
    },
    {
     "cell_type": "heading",
     "level": 4,
     "metadata": {},
     "source": [
      "Self-Driving Vehicles\n"
     ]
    },
    {
     "cell_type": "markdown",
     "metadata": {},
     "source": [
      "CES 2015 parts 6,7,9\n",
      "\n",
      "https://www.youtube.com/watch?v=-vKGkxeflGw\n",
      "\n",
      "https://www.youtube.com/watch?v=zsVsUvx8ieo\n",
      "\n",
      "https://www.youtube.com/watch?v=RvQVyGOynFY\n",
      "\n",
      "GTC 2015 parts 4,5,7,9\n",
      "\n",
      "https://www.youtube.com/watch?v=pqvdZ2jp1NA\n",
      "\n",
      "https://www.youtube.com/watch?v=GGxdP_JWhwI\n",
      "\n",
      "https://www.youtube.com/watch?v=Tb7ZYSTYHbw\n",
      "\n",
      "https://www.youtube.com/watch?v=TDm6Snkle70"
     ]
    },
    {
     "cell_type": "code",
     "collapsed": false,
     "input": [],
     "language": "python",
     "metadata": {},
     "outputs": []
    }
   ],
   "metadata": {}
  }
 ]
}