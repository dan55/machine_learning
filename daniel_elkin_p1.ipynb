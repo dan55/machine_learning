{
 "metadata": {
  "kernelspec": {
   "display_name": "Python 2",
   "language": "python",
   "name": "python2"
  },
  "language_info": {
   "codemirror_mode": {
    "name": "ipython",
    "version": 2
   },
   "file_extension": ".py",
   "mimetype": "text/x-python",
   "name": "python",
   "nbconvert_exporter": "python",
   "pygments_lexer": "ipython2",
   "version": "2.7.6"
  },
  "name": "",
  "signature": "sha256:8f0e6fbabc98b13bb69e20592a6c5d84495946d4a21714a02f542497b01550a7"
 },
 "nbformat": 3,
 "nbformat_minor": 0,
 "worksheets": [
  {
   "cells": [
    {
     "cell_type": "heading",
     "level": 1,
     "metadata": {},
     "source": [
      "Project 1: Digit Classification with KNN and Naive Bayes"
     ]
    },
    {
     "cell_type": "markdown",
     "metadata": {},
     "source": [
      "In this project, you'll implement your own image recognition system for classifying digits. Read through the code and the instructions carefully and add your own code where indicated. Each problem can be addressed succinctly with the included packages -- please don't add any more. Grading will be based on writing clean, commented code, along with a few short answers.\n",
      "\n",
      "As always, you're welcome to work on the project in groups and discuss ideas on the course wall, but <b> please prepare your own write-up (with your own code). </b>\n",
      "\n",
      "If you're interested, check out these links related to digit recognition:\n",
      "\n",
      "Yann Lecun's MNIST benchmarks: http://yann.lecun.com/exdb/mnist/\n",
      "\n",
      "Stanford Streetview research and data: http://ufldl.stanford.edu/housenumbers/"
     ]
    },
    {
     "cell_type": "code",
     "collapsed": false,
     "input": [
      "# This tells matplotlib not to try opening a new window for each plot.\n",
      "%matplotlib inline\n",
      "\n",
      "# Import a bunch of libraries.\n",
      "import time\n",
      "import numpy as np\n",
      "import matplotlib.pyplot as plt\n",
      "from matplotlib.ticker import MultipleLocator\n",
      "from sklearn.pipeline import Pipeline\n",
      "from sklearn.datasets import fetch_mldata\n",
      "from sklearn.neighbors import KNeighborsClassifier\n",
      "from sklearn.metrics import confusion_matrix\n",
      "from sklearn.linear_model import LinearRegression\n",
      "from sklearn.naive_bayes import BernoulliNB\n",
      "from sklearn.naive_bayes import MultinomialNB\n",
      "from sklearn.naive_bayes import GaussianNB\n",
      "from sklearn.grid_search import GridSearchCV\n",
      "from sklearn.metrics import classification_report\n",
      "\n",
      "# Set the randomizer seed so results are the same each time.\n",
      "np.random.seed(0)"
     ],
     "language": "python",
     "metadata": {},
     "outputs": [],
     "prompt_number": 61
    },
    {
     "cell_type": "markdown",
     "metadata": {},
     "source": [
      "Load the data. Notice that we are splitting the data into training, development, and test. We also have a small subset of the training data called mini_train_data and mini_train_labels that you should use in all the experiments below, unless otherwise noted."
     ]
    },
    {
     "cell_type": "code",
     "collapsed": false,
     "input": [
      "# Load the digit data either from mldata.org, or once downloaded to data_home, from disk. The data is about 53MB so this cell\n",
      "# should take a while the first time your run it.\n",
      "mnist = fetch_mldata('MNIST original', data_home='~/datasets/mnist')\n",
      "X, Y = mnist.data, mnist.target\n",
      "\n",
      "# Rescale grayscale values to [0,1].\n",
      "X = X / 255.0\n",
      "\n",
      "# Shuffle the input: create a random permutation of the integers between 0 and the number of data points and apply this\n",
      "# permutation to X and Y.\n",
      "# NOTE: Each time you run this cell, you'll re-shuffle the data, resulting in a different ordering.\n",
      "shuffle = np.random.permutation(np.arange(X.shape[0]))\n",
      "X, Y = X[shuffle], Y[shuffle]\n",
      "\n",
      "print 'data shape: ', X.shape\n",
      "print 'label shape:', Y.shape\n",
      "\n",
      "# Set some variables to hold test, dev, and training data.\n",
      "test_data, test_labels = X[61000:], Y[61000:]\n",
      "dev_data, dev_labels = X[60000:61000], Y[60000:61000]\n",
      "train_data, train_labels = X[:60000], Y[:60000]\n",
      "mini_train_data, mini_train_labels = X[:1000], Y[:1000]"
     ],
     "language": "python",
     "metadata": {},
     "outputs": [
      {
       "output_type": "stream",
       "stream": "stdout",
       "text": [
        "data shape:  (70000, 784)\n",
        "label shape: (70000,)\n"
       ]
      }
     ],
     "prompt_number": 62
    },
    {
     "cell_type": "markdown",
     "metadata": {},
     "source": [
      "(1) Create a 10x10 grid to visualize 10 examples of each digit. Python hints:\n",
      "\n",
      "- plt.rc() for setting the colormap, for example to black and white\n",
      "- plt.subplot() for creating subplots\n",
      "- plt.imshow() for rendering a matrix\n",
      "- np.array.reshape() for reshaping a 1D feature vector into a 2D matrix (for rendering)"
     ]
    },
    {
     "cell_type": "code",
     "collapsed": false,
     "input": [
      "def P1(num_examples=10):\n",
      "\n",
      "### STUDENT START ###\n",
      "\n",
      "    IMG_SHAPE = (28, 28) # each image is a square matrix of order sqrt(784)\n",
      "    NUM_DIGITS = 10 # there are 10 digits (0-9)\n",
      "\n",
      "    matrices = [] # collection of images\n",
      "    plt.rc('image', cmap = 'gray') # set the image color to gray\n",
      "    \n",
      "    # for each digit, get the first 10 examples in the training data\n",
      "    \n",
      "    for i in range(NUM_DIGITS):\n",
      "        idxs = np.where(mini_train_labels == i) # get the indexes of all matching digits\n",
      "        nums = mini_train_data[idxs][:num_examples] # get a subset of the data\n",
      "\n",
      "        matrices.append([num.reshape(IMG_SHAPE) for num in nums]) # reshape the data into an image\n",
      "\n",
      "        \n",
      "    # display each image as a subplot\n",
      "    \n",
      "    for i in range(len(matrices)):\n",
      "        for j in range(len(matrices[i])):\n",
      "            matrix = matrices[i][j] # get the image\n",
      "\n",
      "            img_num = (i * num_examples) + (j + 1) # calculate its position in the plot\n",
      "            plt.subplot(NUM_DIGITS, num_examples, img_num) # plot it\n",
      "\n",
      "            plt.imshow(matrix) # display the image\n",
      "            plt.xticks([]); plt.yticks([]) # hide the ticks on the axes. TODO: Why can't I set this above?\n",
      "    \n",
      "\n",
      "### STUDENT END ###\n",
      "\n",
      "P1(10)"
     ],
     "language": "python",
     "metadata": {},
     "outputs": []
    },
    {
     "cell_type": "markdown",
     "metadata": {},
     "source": [
      "(2) Evaluate a K-Nearest-Neighbors model with k = [1,3,5,7,9] using the mini training set. Report accuracy on the dev set. For k=1, show precision, recall, and F1 for each label. Which is the most difficult digit?\n",
      "\n",
      "- KNeighborsClassifier() for fitting and predicting\n",
      "- classification_report() for producing precision, recall, F1 results"
     ]
    },
    {
     "cell_type": "code",
     "collapsed": false,
     "input": [
      "def P2(k_values):\n",
      "\n",
      "### STUDENT START ###\n",
      "\n",
      "    # Train a knn classifier on each of the provided k-values and report the accuracy of each model\n",
      "    \n",
      "    print 'Accuracy of the model using different k-values:\\n'\n",
      "    print 'k_value\\t score'\n",
      "\n",
      "    for k_val in k_values:\n",
      "        knn = KNeighborsClassifier(n_neighbors=k_val) # instantiate the classifier for the given value of k\n",
      "\n",
      "        knn.fit(mini_train_data, mini_train_labels) # train the classifier on the training data\n",
      "\n",
      "        # store the model for k = 1, because we'll need it \n",
      "        # for the classification report below\n",
      "        if k_val == 1:\n",
      "            knn_k_1 = knn\n",
      "        \n",
      "        score = knn.score(dev_data, dev_labels) # score the classifier on the dev data\n",
      "        print \"{0} \\t {1}\".format(k_val, score) # report the results\n",
      "\n",
      "\n",
      "    # Display a classification report for a model with k = 1\n",
      "    \n",
      "    print '\\n\\nMetrics for each label with k = 1:\\n'\n",
      "    print classification_report(dev_labels, knn_k_1.predict(dev_data), target_names=[str(i) for i in range(10)])\n",
      "    \n",
      "### STUDENT END ###\n",
      "\n",
      "k_values = [1, 3, 5, 7, 9]\n",
      "P2(k_values)"
     ],
     "language": "python",
     "metadata": {},
     "outputs": [
      {
       "output_type": "stream",
       "stream": "stdout",
       "text": [
        "Accuracy of the model using different k-values:\n",
        "\n",
        "k_value\t score\n",
        "1 \t 0.888"
       ]
      },
      {
       "output_type": "stream",
       "stream": "stdout",
       "text": [
        "\n",
        "3 \t 0.878"
       ]
      },
      {
       "output_type": "stream",
       "stream": "stdout",
       "text": [
        "\n",
        "5 \t 0.869"
       ]
      },
      {
       "output_type": "stream",
       "stream": "stdout",
       "text": [
        "\n",
        "7 \t 0.865"
       ]
      },
      {
       "output_type": "stream",
       "stream": "stdout",
       "text": [
        "\n",
        "9 \t 0.863"
       ]
      },
      {
       "output_type": "stream",
       "stream": "stdout",
       "text": [
        "\n",
        "\n",
        "\n",
        "Metrics for each label with k = 1:\n",
        "\n",
        "             precision    recall  f1-score   support\n",
        "\n",
        "          0       0.91      0.98      0.94        99\n",
        "          1       0.89      1.00      0.94       105\n",
        "          2       0.99      0.79      0.88       102\n",
        "          3       0.77      0.87      0.82        86\n",
        "          4       0.89      0.82      0.85       104\n",
        "          5       0.93      0.84      0.88        91\n",
        "          6       0.94      0.96      0.95        98\n",
        "          7       0.89      0.92      0.90       113\n",
        "          8       0.94      0.88      0.91        96\n",
        "          9       0.78      0.82      0.80       106\n",
        "\n",
        "avg / total       0.89      0.89      0.89      1000\n"
       ]
      },
      {
       "output_type": "stream",
       "stream": "stdout",
       "text": [
        "\n"
       ]
      }
     ],
     "prompt_number": 58
    },
    {
     "cell_type": "markdown",
     "metadata": {},
     "source": [
      "ANSWER: The digit with the lowest precision is 9, so it is the most difficult to predict."
     ]
    },
    {
     "cell_type": "markdown",
     "metadata": {},
     "source": [
      "(3) Using k=1, report dev set accuracy for the training set sizes below. Also, measure the amount of time needed for prediction with each training size.\n",
      "\n",
      "- time.time() gives a wall clock value you can use for timing operations"
     ]
    },
    {
     "cell_type": "code",
     "collapsed": false,
     "input": [
      "#def P3(train_sizes, accuracies):\n",
      "\n",
      "### STUDENT START ###\n",
      "\n",
      "\n",
      "### STUDENT END ###\n",
      "\n",
      "#train_sizes = [100, 200, 400, 800, 1600, 3200, 6400, 12800, 25000]\n",
      "#accuracies = []\n",
      "#P3(train_sizes, accuracies)"
     ],
     "language": "python",
     "metadata": {},
     "outputs": [],
     "prompt_number": 7
    },
    {
     "cell_type": "markdown",
     "metadata": {},
     "source": [
      "(4) Fit a regression model that predicts accuracy from training size. What does it predict for n=60000? What's wrong with using regression here? Can you apply a transformation that makes the predictions more reasonable?\n",
      "\n",
      "- Remember that the sklearn fit() functions take an input matrix X and output vector Y. So each input example in X is a vector, even if it contains only a single value."
     ]
    },
    {
     "cell_type": "code",
     "collapsed": false,
     "input": [
      "#def P4():\n",
      "\n",
      "### STUDENT START ###\n",
      "    \n",
      "\n",
      "### STUDENT END ###\n",
      "\n",
      "#P4()"
     ],
     "language": "python",
     "metadata": {},
     "outputs": [],
     "prompt_number": 8
    },
    {
     "cell_type": "markdown",
     "metadata": {},
     "source": [
      "ANSWER:"
     ]
    },
    {
     "cell_type": "markdown",
     "metadata": {},
     "source": [
      "Fit a 1-NN and output a confusion matrix for the dev data. Use the confusion matrix to identify the most confused pair of digits, and display a few example mistakes.\n",
      "\n",
      "- confusion_matrix() produces a confusion matrix"
     ]
    },
    {
     "cell_type": "code",
     "collapsed": false,
     "input": [
      "#def P5():\n",
      "\n",
      "### STUDENT START ###\n",
      "\n",
      "    \n",
      "### STUDENT END ###\n",
      "\n",
      "#P5()"
     ],
     "language": "python",
     "metadata": {},
     "outputs": [],
     "prompt_number": 9
    },
    {
     "cell_type": "markdown",
     "metadata": {},
     "source": [
      "(6) A common image processing technique is to smooth an image by blurring. The idea is that the value of a particular pixel is estimated as the weighted combination of the original value and the values around it. Typically, the blurring is Gaussian -- that is, the weight of a pixel's influence is determined by a Gaussian function over the distance to the relevant pixel.\n",
      "\n",
      "Implement a simplified Gaussian blur by just using the 8 neighboring pixels: the smoothed value of a pixel is a weighted combination of the original value and the 8 neighboring values. Try applying your blur filter in 3 ways:\n",
      "- preprocess the training data but not the dev data\n",
      "- preprocess the dev data but not the training data\n",
      "- preprocess both training and dev data\n",
      "\n",
      "Note that there are Guassian blur filters available, for example in scipy.ndimage.filters. You're welcome to experiment with those, but you are likely to get the best results with the simplified version I described above."
     ]
    },
    {
     "cell_type": "code",
     "collapsed": false,
     "input": [
      "#def P6():\n",
      "    \n",
      "### STUDENT START ###\n",
      "\n",
      "\n",
      "### STUDENT END ###\n",
      "\n",
      "#P6()"
     ],
     "language": "python",
     "metadata": {},
     "outputs": [],
     "prompt_number": 10
    },
    {
     "cell_type": "markdown",
     "metadata": {},
     "source": [
      "ANSWER:"
     ]
    },
    {
     "cell_type": "markdown",
     "metadata": {},
     "source": [
      "(7) Fit a Naive Bayes classifier and report accuracy on the dev data. Remember that Naive Bayes estimates P(feature|label). While sklearn can handle real-valued features, let's start by mapping the pixel values to either 0 or 1. You can do this as a preprocessing step, or with the binarize argument. With binary-valued features, you can use BernoulliNB. Next try mapping the pixel values to 0, 1, or 2, representing white, grey, or black. This mapping requires MultinomialNB. Does the multi-class version improve the results? Why or why not?"
     ]
    },
    {
     "cell_type": "code",
     "collapsed": false,
     "input": [
      "#def P7():\n",
      "\n",
      "### STUDENT START ###\n",
      "\n",
      "\n",
      "    \n",
      "### STUDENT END ###\n",
      "\n",
      "#P7()"
     ],
     "language": "python",
     "metadata": {},
     "outputs": [],
     "prompt_number": 11
    },
    {
     "cell_type": "markdown",
     "metadata": {},
     "source": [
      "ANSWER:"
     ]
    },
    {
     "cell_type": "markdown",
     "metadata": {},
     "source": [
      "(8) Use GridSearchCV to perform a search over values of alpha (the Laplace smoothing parameter) in a Bernoulli NB model. What is the best value for alpha? What is the accuracy when alpha=0? Is this what you'd expect?\n",
      "\n",
      "- Note that GridSearchCV partitions the training data so the results will be a bit different than if you used the dev data for evaluation."
     ]
    },
    {
     "cell_type": "code",
     "collapsed": false,
     "input": [
      "#def P8(alphas):\n",
      "\n",
      "### STUDENT START ###\n",
      "\n",
      "\n",
      "\n",
      "### STUDENT END ###\n",
      "\n",
      "#alphas = {'alpha': [0.0, 0.0001, 0.001, 0.01, 0.1, 0.5, 1.0, 2.0, 10.0]}\n",
      "#nb = P8(alphas)"
     ],
     "language": "python",
     "metadata": {},
     "outputs": [],
     "prompt_number": 12
    },
    {
     "cell_type": "code",
     "collapsed": false,
     "input": [
      "#print nb.best_params_"
     ],
     "language": "python",
     "metadata": {},
     "outputs": [],
     "prompt_number": 14
    },
    {
     "cell_type": "markdown",
     "metadata": {},
     "source": [
      "ANSWER:"
     ]
    },
    {
     "cell_type": "markdown",
     "metadata": {},
     "source": [
      "(9) Try training a model using GuassianNB, which is intended for real-valued features, and evaluate on the dev data. You'll notice that it doesn't work so well. Try to diagnose the problem. You should be able to find a simple fix that returns the accuracy to around the same rate as BernoulliNB. Explain your solution.\n",
      "\n",
      "Hint: examine the parameters estimated by the fit() method, theta\\_ and sigma\\_."
     ]
    },
    {
     "cell_type": "code",
     "collapsed": false,
     "input": [
      "#def P9():\n",
      "\n",
      "### STUDENT END ###\n",
      "\n",
      "\n",
      "### STUDENT END ###\n",
      "\n",
      "#gnb = P9()"
     ],
     "language": "python",
     "metadata": {},
     "outputs": [],
     "prompt_number": 15
    },
    {
     "cell_type": "markdown",
     "metadata": {},
     "source": [
      "ANSWER:"
     ]
    },
    {
     "cell_type": "markdown",
     "metadata": {},
     "source": [
      "(10) Because Naive Bayes is a generative model, we can use the trained model to generate digits. Train a BernoulliNB model and then generate a 10x20 grid with 20 examples of each digit. Because you're using a Bernoulli model, each pixel output will be either 0 or 1. How do the generated digits compare to the training digits?\n",
      "\n",
      "- You can use np.random.rand() to generate random numbers from a uniform distribution\n",
      "- The estimated probability of each pixel is stored in feature\\_log\\_prob\\_. You'll need to use np.exp() to convert a log probability back to a probability."
     ]
    },
    {
     "cell_type": "code",
     "collapsed": false,
     "input": [
      "#def P10(num_examples):\n",
      "\n",
      "### STUDENT START ###\n",
      "\n",
      "\n",
      "### STUDENT END ###\n",
      "\n",
      "#P10(20)"
     ],
     "language": "python",
     "metadata": {},
     "outputs": [],
     "prompt_number": 16
    },
    {
     "cell_type": "markdown",
     "metadata": {},
     "source": [
      "ANSWER:"
     ]
    },
    {
     "cell_type": "markdown",
     "metadata": {},
     "source": [
      "(11) Remember that a strongly calibrated classifier is rougly 90% accurate when the posterior probability of the predicted class is 0.9. A weakly calibrated classifier is more accurate when the posterior is 90% than when it is 80%. A poorly calibrated classifier has no positive correlation between posterior and accuracy.\n",
      "\n",
      "Train a BernoulliNB model with a reasonable alpha value. For each posterior bucket (think of a bin in a histogram), you want to estimate the classifier's accuracy. So for each prediction, find the bucket the maximum posterior belongs to and update the \"correct\" and \"total\" counters.\n",
      "\n",
      "How would you characterize the calibration for the Naive Bayes model?"
     ]
    },
    {
     "cell_type": "code",
     "collapsed": false,
     "input": [
      "#def P11(buckets, correct, total):\n",
      "    \n",
      "### STUDENT START ###\n",
      "\n",
      "\n",
      "                \n",
      "### STUDENT END ###\n",
      "\n",
      "#buckets = [0.5, 0.9, 0.999, 0.99999, 0.9999999, 0.999999999, 0.99999999999, 0.9999999999999, 1.0]\n",
      "#correct = [0 for i in buckets]\n",
      "#total = [0 for i in buckets]\n",
      "\n",
      "#P11(buckets, correct, total)\n",
      "\n",
      "#for i in range(len(buckets)):\n",
      "#    accuracy = 0.0\n",
      "#    if (total[i] > 0): accuracy = correct[i] / total[i]\n",
      "#    print 'p(pred) <= %.13f    total = %3d    accuracy = %.3f' %(buckets[i], total[i], accuracy)"
     ],
     "language": "python",
     "metadata": {},
     "outputs": [],
     "prompt_number": 17
    },
    {
     "cell_type": "markdown",
     "metadata": {},
     "source": [
      "ANSWER:"
     ]
    },
    {
     "cell_type": "markdown",
     "metadata": {},
     "source": [
      "(12) EXTRA CREDIT\n",
      "\n",
      "Try designing extra features to see if you can improve the performance of Naive Bayes on the dev set. Here are a few ideas to get you started:\n",
      "- Try summing the pixel values in each row and each column.\n",
      "- Try counting the number of enclosed regions; 8 usually has 2 enclosed regions, 9 usually has 1, and 7 usually has 0.\n",
      "\n",
      "Make sure you comment your code well!"
     ]
    },
    {
     "cell_type": "code",
     "collapsed": false,
     "input": [
      "#def P12():\n",
      "\n",
      "### STUDENT START ###\n",
      "\n",
      "### STUDENT END ###\n",
      "\n",
      "#P12()"
     ],
     "language": "python",
     "metadata": {},
     "outputs": [],
     "prompt_number": 6
    },
    {
     "cell_type": "code",
     "collapsed": false,
     "input": [],
     "language": "python",
     "metadata": {},
     "outputs": []
    }
   ],
   "metadata": {}
  }
 ]
}