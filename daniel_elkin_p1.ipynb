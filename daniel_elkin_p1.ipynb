{
 "metadata": {
  "kernelspec": {
   "display_name": "Python 2",
   "language": "python",
   "name": "python2"
  },
  "language_info": {
   "codemirror_mode": {
    "name": "ipython",
    "version": 2
   },
   "file_extension": ".py",
   "mimetype": "text/x-python",
   "name": "python",
   "nbconvert_exporter": "python",
   "pygments_lexer": "ipython2",
   "version": "2.7.6"
  },
  "name": "",
  "signature": "sha256:8c189f0649c70888f86b931dd04bda94f8ee0f38c44ca2bf995554cb530aad82"
 },
 "nbformat": 3,
 "nbformat_minor": 0,
 "worksheets": [
  {
   "cells": [
    {
     "cell_type": "heading",
     "level": 1,
     "metadata": {},
     "source": [
      "Project 1: Digit Classification with KNN and Naive Bayes"
     ]
    },
    {
     "cell_type": "markdown",
     "metadata": {},
     "source": [
      "In this project, you'll implement your own image recognition system for classifying digits. Read through the code and the instructions carefully and add your own code where indicated. Each problem can be addressed succinctly with the included packages -- please don't add any more. Grading will be based on writing clean, commented code, along with a few short answers.\n",
      "\n",
      "As always, you're welcome to work on the project in groups and discuss ideas on the course wall, but <b> please prepare your own write-up (with your own code). </b>\n",
      "\n",
      "If you're interested, check out these links related to digit recognition:\n",
      "\n",
      "Yann Lecun's MNIST benchmarks: http://yann.lecun.com/exdb/mnist/\n",
      "\n",
      "Stanford Streetview research and data: http://ufldl.stanford.edu/housenumbers/"
     ]
    },
    {
     "cell_type": "code",
     "collapsed": false,
     "input": [
      "# This tells matplotlib not to try opening a new window for each plot.\n",
      "%matplotlib inline\n",
      "\n",
      "# Import a bunch of libraries.\n",
      "import time\n",
      "import numpy as np\n",
      "import matplotlib.pyplot as plt\n",
      "from matplotlib.ticker import MultipleLocator\n",
      "from sklearn.pipeline import Pipeline\n",
      "from sklearn.datasets import fetch_mldata\n",
      "from sklearn.neighbors import KNeighborsClassifier\n",
      "from sklearn.metrics import confusion_matrix\n",
      "from sklearn.linear_model import LinearRegression\n",
      "from sklearn.naive_bayes import BernoulliNB\n",
      "from sklearn.naive_bayes import MultinomialNB\n",
      "from sklearn.naive_bayes import GaussianNB\n",
      "from sklearn.grid_search import GridSearchCV\n",
      "from sklearn.metrics import classification_report\n",
      "\n",
      "# Set the randomizer seed so results are the same each time.\n",
      "np.random.seed(0)"
     ],
     "language": "python",
     "metadata": {},
     "outputs": [],
     "prompt_number": 242
    },
    {
     "cell_type": "markdown",
     "metadata": {},
     "source": [
      "Load the data. Notice that we are splitting the data into training, development, and test. We also have a small subset of the training data called mini_train_data and mini_train_labels that you should use in all the experiments below, unless otherwise noted."
     ]
    },
    {
     "cell_type": "code",
     "collapsed": false,
     "input": [
      "# Load the digit data either from mldata.org, or once downloaded to data_home, from disk. The data is about 53MB so this cell\n",
      "# should take a while the first time your run it.\n",
      "mnist = fetch_mldata('MNIST original', data_home='~/datasets/mnist')\n",
      "X, Y = mnist.data, mnist.target\n",
      "\n",
      "# Rescale grayscale values to [0,1].\n",
      "X = X / 255.0\n",
      "\n",
      "# Shuffle the input: create a random permutation of the integers between 0 and the number of data points and apply this\n",
      "# permutation to X and Y.\n",
      "# NOTE: Each time you run this cell, you'll re-shuffle the data, resulting in a different ordering.\n",
      "shuffle = np.random.permutation(np.arange(X.shape[0]))\n",
      "X, Y = X[shuffle], Y[shuffle]\n",
      "\n",
      "print 'data shape: ', X.shape\n",
      "print 'label shape:', Y.shape\n",
      "\n",
      "# Set some variables to hold test, dev, and training data.\n",
      "test_data, test_labels = X[61000:], Y[61000:]\n",
      "dev_data, dev_labels = X[60000:61000], Y[60000:61000]\n",
      "train_data, train_labels = X[:60000], Y[:60000]\n",
      "mini_train_data, mini_train_labels = X[:1000], Y[:1000]"
     ],
     "language": "python",
     "metadata": {},
     "outputs": [
      {
       "output_type": "stream",
       "stream": "stdout",
       "text": [
        "data shape:  (70000, 784)\n",
        "label shape: (70000,)\n"
       ]
      }
     ],
     "prompt_number": 243
    },
    {
     "cell_type": "markdown",
     "metadata": {},
     "source": [
      "(1) Create a 10x10 grid to visualize 10 examples of each digit. Python hints:\n",
      "\n",
      "- plt.rc() for setting the colormap, for example to black and white\n",
      "- plt.subplot() for creating subplots\n",
      "- plt.imshow() for rendering a matrix\n",
      "- np.array.reshape() for reshaping a 1D feature vector into a 2D matrix (for rendering)"
     ]
    },
    {
     "cell_type": "code",
     "collapsed": false,
     "input": [
      "def P1(num_examples=10):\n",
      "\n",
      "### STUDENT START ###\n",
      "\n",
      "    IMG_SHAPE = (28, 28) # each image is a square matrix of order sqrt(784)\n",
      "    NUM_DIGITS = 10 # there are 10 digits (0-9)\n",
      "\n",
      "    matrices = [] # collection of images\n",
      "    \n",
      "    \n",
      "    # for each digit, get the first 10 examples in the training data\n",
      "    for digit in range(NUM_DIGITS):\n",
      "        \n",
      "        # get the indexes of all matching digits\n",
      "        idxs = np.where(mini_train_labels == digit) \n",
      "        \n",
      "        # get a subset of the data\n",
      "        nums = mini_train_data[idxs][:num_examples] \n",
      "\n",
      "         # reshape the data into an image and add it to the collection\n",
      "        matrices.append([num.reshape(IMG_SHAPE) for num in nums])\n",
      "\n",
      "        \n",
      "    # set the image color to gray\n",
      "    plt.rc('image', cmap = 'gray') \n",
      "    \n",
      "    # print a description of the grid\n",
      "    print 'Sample of training digits:\\n'\n",
      "    \n",
      "    # display each image as a subplot\n",
      "    for row in range(len(matrices)):\n",
      "        for col in range(len(matrices[row])):\n",
      "            \n",
      "            # get the image\n",
      "            matrix = matrices[row][col] \n",
      "\n",
      "            # calculate its position in the plot\n",
      "            img_num = (row * num_examples) + (col+ 1) \n",
      "            \n",
      "            # plot it\n",
      "            plt.subplot(NUM_DIGITS, num_examples, img_num) \n",
      "\n",
      "            # display the image\n",
      "            plt.imshow(matrix) \n",
      "            \n",
      "            # hide the ticks on the axes.\n",
      "            plt.xticks([]); plt.yticks([]) \n",
      "    \n",
      "\n",
      "### STUDENT END ###\n",
      "\n",
      "P1(10)"
     ],
     "language": "python",
     "metadata": {},
     "outputs": [
      {
       "output_type": "stream",
       "stream": "stdout",
       "text": [
        "Sample of training digits:\n",
        "\n"
       ]
      },
      {
       "metadata": {},
       "output_type": "display_data",
       "png": "[encoded data removed]",
       "text": [
        "<matplotlib.figure.Figure at 0x7f9689794310>"
       ]
      }
     ],
     "prompt_number": 318
    },
    {
     "cell_type": "markdown",
     "metadata": {},
     "source": [
      "(2) Evaluate a K-Nearest-Neighbors model with k = [1,3,5,7,9] using the mini training set. Report accuracy on the dev set. For k=1, show precision, recall, and F1 for each label. Which is the most difficult digit?\n",
      "\n",
      "- KNeighborsClassifier() for fitting and predicting\n",
      "- classification_report() for producing precision, recall, F1 results"
     ]
    },
    {
     "cell_type": "code",
     "collapsed": false,
     "input": [
      "def P2(k_values):\n",
      "\n",
      "### STUDENT START ###\n",
      "\n",
      "    ''' Train a knn classifier on each of the provided k-values and report the accuracy of each model. '''\n",
      "\n",
      "    # print explanation of output\n",
      "    print 'Accuracy of the model using different k-values:\\n'\n",
      "    \n",
      "    # print table header\n",
      "    print 'k_value\\t score'\n",
      "\n",
      "    for k_val in k_values:\n",
      "        \n",
      "        # instantiate the classifier with the given value of k\n",
      "        knn = KNeighborsClassifier(n_neighbors=k_val) \n",
      "\n",
      "        # train the classifier on the training data\n",
      "        knn.fit(mini_train_data, mini_train_labels) \n",
      "\n",
      "        # store the model for k = 1, because we'll need it \n",
      "        # for the classification report below\n",
      "        if k_val == 1:\n",
      "            knn_k_1 = knn\n",
      "        \n",
      "        # score the classifier on the dev data\n",
      "        score = knn.score(dev_data, dev_labels) \n",
      "        \n",
      "        # report the results\n",
      "        print '{0} \\t {1}'.format(k_val, score) \n",
      "\n",
      "        \n",
      "    # Display a classification report for a model with k = 1    \n",
      "    print '\\n\\nMetrics for each label with k = 1:\\n'\n",
      "    print classification_report(dev_labels, knn_k_1.predict(dev_data), target_names=[str(i) for i in range(10)])\n",
      "    \n",
      "### STUDENT END ###\n",
      "\n",
      "k_values = [1, 3, 5, 7, 9]\n",
      "P2(k_values)"
     ],
     "language": "python",
     "metadata": {},
     "outputs": [
      {
       "output_type": "stream",
       "stream": "stdout",
       "text": [
        "Accuracy of the model using different k-values:\n",
        "\n",
        "k_value\t score\n",
        "1 \t 0.888"
       ]
      },
      {
       "output_type": "stream",
       "stream": "stdout",
       "text": [
        "\n",
        "3 \t 0.878"
       ]
      },
      {
       "output_type": "stream",
       "stream": "stdout",
       "text": [
        "\n",
        "5 \t 0.869"
       ]
      },
      {
       "output_type": "stream",
       "stream": "stdout",
       "text": [
        "\n",
        "7 \t 0.865"
       ]
      },
      {
       "output_type": "stream",
       "stream": "stdout",
       "text": [
        "\n",
        "9 \t 0.863"
       ]
      },
      {
       "output_type": "stream",
       "stream": "stdout",
       "text": [
        "\n",
        "\n",
        "\n",
        "Metrics for each label with k = 1:\n",
        "\n",
        "             precision    recall  f1-score   support\n",
        "\n",
        "          0       0.91      0.98      0.94        99\n",
        "          1       0.89      1.00      0.94       105\n",
        "          2       0.99      0.79      0.88       102\n",
        "          3       0.77      0.87      0.82        86\n",
        "          4       0.89      0.82      0.85       104\n",
        "          5       0.93      0.84      0.88        91\n",
        "          6       0.94      0.96      0.95        98\n",
        "          7       0.89      0.92      0.90       113\n",
        "          8       0.94      0.88      0.91        96\n",
        "          9       0.78      0.82      0.80       106\n",
        "\n",
        "avg / total       0.89      0.89      0.89      1000\n"
       ]
      },
      {
       "output_type": "stream",
       "stream": "stdout",
       "text": [
        "\n"
       ]
      }
     ],
     "prompt_number": 319
    },
    {
     "cell_type": "markdown",
     "metadata": {},
     "source": [
      "ANSWER: Using the f1-score, which combines precision and recall, the digit 9 is the hardest to predict."
     ]
    },
    {
     "cell_type": "markdown",
     "metadata": {},
     "source": [
      "(3) Using k=1, report dev set accuracy for the training set sizes below. Also, measure the amount of time needed for prediction with each training size.\n",
      "\n",
      "- time.time() gives a wall clock value you can use for timing operations"
     ]
    },
    {
     "cell_type": "code",
     "collapsed": false,
     "input": [
      "def P3(train_sizes, accuracies):\n",
      "\n",
      "### STUDENT START ###\n",
      "\n",
      "    # print a description of what we're doing and a header for the report \n",
      "    print 'Accuracy and prediction time for training data of different sizes:\\n\\n'\n",
      "    print 'Samples \\t Accuracy \\t Elapsed Time (seconds) \\n'\n",
      "\n",
      "    # for each size passed to the function, train the model on data of that size\n",
      "    # and report the accuracy of the model and the time taken to score it\n",
      "    for size in train_sizes:\n",
      "      \n",
      "        # get a subset of the training data\n",
      "        train_data_subset, train_labels_subset = train_data[:size], train_labels[:size]\n",
      "\n",
      "        # instantiate the classifier\n",
      "        knn = KNeighborsClassifier(n_neighbors=1)\n",
      "        \n",
      "        # fit the classifier on the subset of the training data\n",
      "        knn.fit(train_data_subset, train_labels_subset) \n",
      "\n",
      "        # time the predict operation\n",
      "        predict_start_time = time.time() \n",
      "\n",
      "        # get the accuracy of the prediction\n",
      "        score = knn.score(dev_data, dev_labels)  \n",
      "\n",
      "        # store the accuracy for use in the next question\n",
      "        accuracies.append(score)\n",
      "        \n",
      "        # calculate the time taken for prediction \n",
      "        # round to hundredths of a second\n",
      "        elapsed_time = round(time.time() - predict_start_time, 2)\n",
      "\n",
      "        # display the results in a table\n",
      "        print '{0} \\t\\t {1} \\t\\t {2}'.format(size, score, elapsed_time) \n",
      "\n",
      "### STUDENT END ###\n",
      "\n",
      "train_sizes = [100, 200, 400, 800, 1600, 3200, 6400, 12800, 25000]\n",
      "accuracies = []\n",
      "P3(train_sizes, accuracies)"
     ],
     "language": "python",
     "metadata": {},
     "outputs": [
      {
       "output_type": "stream",
       "stream": "stdout",
       "text": [
        "Accuracy and prediction time for training data of different sizes:\n",
        "\n",
        "\n",
        "Samples \t Accuracy \t Elapsed Time (seconds) \n",
        "\n",
        "100 \t\t 0.72 \t\t 0.11"
       ]
      },
      {
       "output_type": "stream",
       "stream": "stdout",
       "text": [
        "\n",
        "200 \t\t 0.786 \t\t 0.21"
       ]
      },
      {
       "output_type": "stream",
       "stream": "stdout",
       "text": [
        "\n",
        "400 \t\t 0.841 \t\t 0.42"
       ]
      },
      {
       "output_type": "stream",
       "stream": "stdout",
       "text": [
        "\n",
        "800 \t\t 0.884 \t\t 0.9"
       ]
      },
      {
       "output_type": "stream",
       "stream": "stdout",
       "text": [
        "\n",
        "1600 \t\t 0.902 \t\t 1.94"
       ]
      },
      {
       "output_type": "stream",
       "stream": "stdout",
       "text": [
        "\n",
        "3200 \t\t 0.926 \t\t 4.06"
       ]
      },
      {
       "output_type": "stream",
       "stream": "stdout",
       "text": [
        "\n",
        "6400 \t\t 0.937 \t\t 8.14"
       ]
      },
      {
       "output_type": "stream",
       "stream": "stdout",
       "text": [
        "\n",
        "12800 \t\t 0.959 \t\t 16.02"
       ]
      },
      {
       "output_type": "stream",
       "stream": "stdout",
       "text": [
        "\n",
        "25000 \t\t 0.97 \t\t 31.02"
       ]
      },
      {
       "output_type": "stream",
       "stream": "stdout",
       "text": [
        "\n"
       ]
      }
     ],
     "prompt_number": 320
    },
    {
     "cell_type": "markdown",
     "metadata": {},
     "source": [
      "(4) Fit a regression model that predicts accuracy from training size. What does it predict for n=60000? What's wrong with using regression here? Can you apply a transformation that makes the predictions more reasonable?\n",
      "\n",
      "- Remember that the sklearn fit() functions take an input matrix X and output vector Y. So each input example in X is a vector, even if it contains only a single value."
     ]
    },
    {
     "cell_type": "code",
     "collapsed": false,
     "input": [
      "def P4():\n",
      "\n",
      "### STUDENT START ###\n",
      "\n",
      "    SIZE_TO_PREDICT = 60000\n",
      "\n",
      "    # create a matrix from the list of training sizes\n",
      "    # for the linear regression model to use as input\n",
      "    train_size_matrix = np.asmatrix(train_sizes)\n",
      "    train_size_matrix.resize(9, 1)\n",
      "\n",
      "    # instantiate the regression model\n",
      "    lr = LinearRegression()\n",
      "\n",
      "    # fit the model to the training sizes\n",
      "    # and corresponding accuracy scores\n",
      "    lr.fit(train_size_matrix, accuracies)\n",
      "\n",
      "    # show the predicted accuracy \n",
      "    # for a training size of 60000\n",
      "    predicted = lr.predict(SIZE_TO_PREDICT)[0]\n",
      "    predicted_as_percent = int(predicted * 100)\n",
      "\n",
      "    str_fmt = 'The predicted accuracy for a training size of %s is: %s%%'\n",
      "\n",
      "    print str_fmt % (SIZE_TO_PREDICT, predicted_as_percent)\n",
      "    print\n",
      "\n",
      "    # plot the data to see why the result is unreasonable\n",
      "    print 'The relationship between input and output is not linear:'\n",
      "    plt.plot(train_sizes, accuracies)\n",
      "    plt.xlabel('Training set size')\n",
      "    plt.ylabel('Accuracy')\n",
      "    plt.show()\n",
      "    print\n",
      "\n",
      "    # apply log transforms to predictor and response\n",
      "    log_matrix = np.log(train_size_matrix)\n",
      "    log_response = np.log([SIZE_TO_PREDICT])\n",
      "\n",
      "    # examine the transformed data\n",
      "    print 'Applying a log transform to both input and output smooths the curve:'\n",
      "    plt.plot(log_matrix, accuracies)\n",
      "    plt.xlabel('Training set size')\n",
      "    plt.ylabel('Accuracy')\n",
      "    plt.show()\n",
      "    print\n",
      "\n",
      "    # refit the model on the transformed data\n",
      "    lr.fit(log_matrix, accuracies)\n",
      "\n",
      "    # display the new prediction\n",
      "    predicted = lr.predict(log_response[0])[0] \n",
      "    predicted_as_percent = int(predicted * 100)\n",
      "    print 'The predicted accuracy after the transformation is: %s%%\\n' % predicted_as_percent\n",
      "\n",
      "### STUDENT END ###\n",
      "\n",
      "P4()"
     ],
     "language": "python",
     "metadata": {},
     "outputs": [
      {
       "output_type": "stream",
       "stream": "stdout",
       "text": [
        "The predicted accuracy for a training size of 60000 is: 124%\n",
        "\n",
        "The relationship between input and output is not linear:\n"
       ]
      },
      {
       "metadata": {},
       "output_type": "display_data",
       "png": "[encoded data removed]",
       "text": [
        "<matplotlib.figure.Figure at 0x7f9697a9c690>"
       ]
      },
      {
       "output_type": "stream",
       "stream": "stdout",
       "text": [
        "\n",
        "Applying a log transform to both input and output smooths the curve:\n"
       ]
      },
      {
       "metadata": {},
       "output_type": "display_data",
       "png": "[encoded data removed]",
       "text": [
        "<matplotlib.figure.Figure at 0x7f9688fb75d0>"
       ]
      },
      {
       "output_type": "stream",
       "stream": "stdout",
       "text": [
        "\n",
        "The predicted accuracy after the transformation is: 103%\n",
        "\n"
       ]
      }
     ],
     "prompt_number": 321
    },
    {
     "cell_type": "markdown",
     "metadata": {},
     "source": [
      "ANSWER: With no transformation, the model predicts an accuracy of 124%, which is unreasonable. One problem with the data is that the accuracy is not a linear function of the training size. Applying a log transform to the data results in a  predicted accuracy of 103%, which is still unreasonable, but less so."
     ]
    },
    {
     "cell_type": "markdown",
     "metadata": {},
     "source": [
      "Fit a 1-NN and output a confusion matrix for the dev data. Use the confusion matrix to identify the most confused pair of digits, and display a few example mistakes.\n",
      "\n",
      "- confusion_matrix() produces a confusion matrix"
     ]
    },
    {
     "cell_type": "code",
     "collapsed": false,
     "input": [
      "def P5():\n",
      "\n",
      "### STUDENT START ###\n",
      "\n",
      "    def display_images(image_data, num_digits_to_display=5, img_shape=(28,28)):\n",
      "        ''' Helper function to plot images '''\n",
      "\n",
      "        for i, idx in enumerate(image_data):\n",
      "            # reshape the 1d image data into a 2d matrix\n",
      "            matrix = dev_data[idx].reshape(img_shape)\n",
      "\n",
      "            # plot the image\n",
      "            plt.subplot(1, num_digits_to_display, i + 1) \n",
      "            plt.imshow(matrix)\n",
      "            plt.xticks([]); plt.yticks([])\n",
      "            \n",
      "            # only plot the specified number of images\n",
      "            if i == num_digits_to_display - 1:\n",
      "                plt.show()\n",
      "                return\n",
      "    \n",
      "    \n",
      "    def get_most_confused_digits(confusion_matrix):\n",
      "        ''' Get the most confused pair of digits from a confusion matrix '''\n",
      "        \n",
      "        most_confused_pair = (-1, -1, -1) # (first digit, second_digit, sum_confusion)\n",
      "        cm = confusion_matrix\n",
      "        \n",
      "        for i in range(len(cm)):\n",
      "            for j in range(len(cm[i])):\n",
      "                # only examine the matrix above the diagonal\n",
      "                if i >= j:\n",
      "                    continue\n",
      "\n",
      "                # calculate the total number of mistakes for the pair\n",
      "                sum_of_mistakes = cm[i][j] + cm[j][i] \n",
      "\n",
      "                # determine whether this is the most confused pair of digits\n",
      "                if sum_of_mistakes > most_confused_pair[2]:\n",
      "                    most_confused_pair = (i, j, sum_of_mistakes)\n",
      "                    \n",
      "        return most_confused_pair[0], most_confused_pair[1]\n",
      "        \n",
      "        \n",
      "    def get_indexes_of_confused_digits(predicted_digit, actual_digit, predicted_labels, dev_labels):\n",
      "        ''' Get indexes where the wrong digit was predicted'''\n",
      "        \n",
      "        predicted = np.where(predicted_labels == predicted_digit)\n",
      "        actual = np.where(dev_labels == actual_digit)\n",
      "        \n",
      "        return np.intersect1d(predicted, actual)\n",
      "            \n",
      "        \n",
      "    # instantiate a 1-NN classifier\n",
      "    knn = KNeighborsClassifier(n_neighbors=1)\n",
      "\n",
      "    # train the model using the mini training data\n",
      "    knn.fit(mini_train_data, mini_train_labels)\n",
      "\n",
      "    # get the predictions for the dev labels from the dev data\n",
      "    predicted_labels = knn.predict(dev_data)\n",
      "\n",
      "    # output the confusion matrix\n",
      "    print 'Confusion matrix for dev data:\\n'\n",
      "    cm = confusion_matrix(dev_labels, predicted_labels)\n",
      "    print cm\n",
      "\n",
      "    # determine the most confused digits\n",
      "    first_digit, second_digit = get_most_confused_digits(cm)\n",
      "    \n",
      "    print '\\nThe most confused pair of digits are: %s and %s' % \\\n",
      "        (first_digit, second_digit)\n",
      "\n",
      "    \n",
      "    # get the indices of digits where a 4 was predicted but the real label was a 9\n",
      "    intersection = get_indexes_of_confused_digits(first_digit, second_digit, predicted_labels, dev_labels)\n",
      "\n",
      "    # display a few samples\n",
      "    print '\\nCases in which a %s was misclassified as a %s:' % (second_digit, first_digit)\n",
      "    display_images(intersection)\n",
      "\n",
      "    \n",
      "    # get the indices of digits where a 9 was predicted but the real label was a 4\n",
      "    intersection = get_indexes_of_confused_digits(second_digit, first_digit, predicted_labels, dev_labels)\n",
      "    \n",
      "    # display a few samples\n",
      "    print '\\nCases in which a %s was misclassified as a %s:' % (first_digit, second_digit) \n",
      "    display_images(intersection)\n",
      "    \n",
      "### STUDENT END ###\n",
      "\n",
      "P5()"
     ],
     "language": "python",
     "metadata": {},
     "outputs": [
      {
       "output_type": "stream",
       "stream": "stdout",
       "text": [
        "Confusion matrix for dev data:\n",
        "\n",
        "[[ 97   0   0   0   0   0   2   0   0   0]\n",
        " [  0 105   0   0   0   0   0   0   0   0]\n",
        " [  4   4  81   4   0   0   0   4   3   2]\n",
        " [  1   0   0  75   0   3   0   3   1   3]\n",
        " [  0   2   0   0  85   0   3   0   0  14]\n",
        " [  2   0   0   9   0  76   0   1   1   2]\n",
        " [  1   1   1   0   1   0  94   0   0   0]\n",
        " [  1   4   0   1   1   0   0 104   0   2]\n",
        " [  0   2   0   5   0   2   1   0  84   2]\n",
        " [  1   0   0   3   9   1   0   5   0  87]]\n",
        "\n",
        "The most confused pair of digits are: 4 and 9\n",
        "\n",
        "Cases in which a 9 was misclassified as a 4:\n"
       ]
      },
      {
       "metadata": {},
       "output_type": "display_data",
       "png": "[encoded data removed]",
       "text": [
        "<matplotlib.figure.Figure at 0x7f9685b7ea90>"
       ]
      },
      {
       "output_type": "stream",
       "stream": "stdout",
       "text": [
        "\n",
        "Cases in which a 4 was misclassified as a 9:\n"
       ]
      },
      {
       "metadata": {},
       "output_type": "display_data",
       "png": "[encoded data removed]",
       "text": [
        "<matplotlib.figure.Figure at 0x7f96869b66d0>"
       ]
      }
     ],
     "prompt_number": 336
    },
    {
     "cell_type": "markdown",
     "metadata": {},
     "source": [
      "(6) A common image processing technique is to smooth an image by blurring. The idea is that the value of a particular pixel is estimated as the weighted combination of the original value and the values around it. Typically, the blurring is Gaussian -- that is, the weight of a pixel's influence is determined by a Gaussian function over the distance to the relevant pixel.\n",
      "\n",
      "Implement a simplified Gaussian blur by just using the 8 neighboring pixels: the smoothed value of a pixel is a weighted combination of the original value and the 8 neighboring values. Try applying your blur filter in 3 ways:\n",
      "- preprocess the training data but not the dev data\n",
      "- preprocess the dev data but not the training data\n",
      "- preprocess both training and dev data\n",
      "\n",
      "Note that there are Guassian blur filters available, for example in scipy.ndimage.filters. You're welcome to experiment with those, but you are likely to get the best results with the simplified version I described above."
     ]
    },
    {
     "cell_type": "code",
     "collapsed": false,
     "input": [
      "def P6():\n",
      "    \n",
      "### STUDENT START ###\n",
      "\n",
      "    def blur_img(img, distance=8, weight=0.75):\n",
      "        ''' Apply a simplified Gaussian blur to each pixel in an image.\n",
      "        \n",
      "        Arguments:\n",
      "            img - an array of pixels\n",
      "            distance - the number of neighboring pixels to use\n",
      "            weight - the weight to be assigned to the pixel\n",
      "        '''\n",
      "        \n",
      "        # the number of neighbors to use on each side of the pixel\n",
      "        half_distance = distance / 2\n",
      "\n",
      "        # make a copy of the data so as not to mutate it\n",
      "        img_len = len(img)\n",
      "        blurred_img = [0] * img_len\n",
      "\n",
      "        # loop over all pixels in the image except for the first\n",
      "        # and last <half_distance> pixels, for simplicity and to avoid index errors\n",
      "        for i in range(half_distance, img_len - half_distance):\n",
      "            pixel = img[i]\n",
      "\n",
      "            # get the average value of the neighboring pixels \n",
      "            neighbors = img[i - half_distance : i + half_distance]\n",
      "            avg_of_neighbors = sum(neighbors) / distance\n",
      "\n",
      "            # the blurred pixel is a weighted average of the original pixel\n",
      "            # and the neighbors\n",
      "            blurred_pixel = pixel * weight + avg_of_neighbors * (1 - weight)\n",
      "            blurred_img[i] = blurred_pixel\n",
      "\n",
      "        return np.array(blurred_img)\n",
      "    \n",
      "    \n",
      "    def blur_imgs(imgs):\n",
      "        ''' Blur multiple images '''\n",
      "        \n",
      "        imgs_len = len(imgs)\n",
      "        \n",
      "        blurred_imgs = [0] * imgs_len\n",
      "        \n",
      "        for i in range(imgs_len):\n",
      "            blurred_imgs[i] = blur_img(imgs[i])\n",
      "            \n",
      "        return np.array(blurred_imgs)\n",
      "\n",
      "    \n",
      "    # blur each image in the training data\n",
      "    blurred_mini_train_data = blur_imgs(mini_train_data)\n",
      "\n",
      "    # blur each image in the dev data \n",
      "    blurred_dev_data = blur_imgs(dev_data)\n",
      "\n",
      "    # instantiate a classifier \n",
      "    knn = KNeighborsClassifier(n_neighbors=1) \n",
      "\n",
      "    # train the classifier on blurred data \n",
      "    # and score it on the original dev data\n",
      "    knn.fit(blurred_mini_train_data, mini_train_labels)\n",
      "    print 'Score for preprocessed training data: %s' % knn.score(dev_data, dev_labels)\n",
      "\n",
      "    # train the classifier on the original data\n",
      "    # and score it on the blurred dev data\n",
      "    knn.fit(mini_train_data, mini_train_labels)\n",
      "    print 'Score for preprocessed dev data: %s' % knn.score(blurred_dev_data, dev_labels)\n",
      "\n",
      "    # train the classifier on the blurred data\n",
      "    # and score it on the blurred dev data\n",
      "    knn.fit(blurred_mini_train_data, mini_train_labels)\n",
      "    output = 'Score for preprocessed training data and preprocessed dev data: %s'\n",
      "    print output % knn.score(blurred_dev_data, dev_labels)\n",
      "\n",
      "### STUDENT END ###\n",
      "\n",
      "P6()"
     ],
     "language": "python",
     "metadata": {},
     "outputs": [
      {
       "output_type": "stream",
       "stream": "stdout",
       "text": [
        "False\n",
        "Score for preprocessed training data: 0.888"
       ]
      },
      {
       "output_type": "stream",
       "stream": "stdout",
       "text": [
        "\n",
        "Score for preprocessed dev data: 0.879"
       ]
      },
      {
       "output_type": "stream",
       "stream": "stdout",
       "text": [
        "\n",
        "Score for preprocessed training data and preprocessed dev data: 0.888"
       ]
      },
      {
       "output_type": "stream",
       "stream": "stdout",
       "text": [
        "\n"
       ]
      }
     ],
     "prompt_number": 9
    },
    {
     "cell_type": "markdown",
     "metadata": {},
     "source": [
      "ANSWER: All three models are similarly accurate to each other and the original model with no preprocessing. The model in which preprocessing is applied only to the dev data is about a 1% less accurate. "
     ]
    },
    {
     "cell_type": "markdown",
     "metadata": {},
     "source": [
      "(7) Fit a Naive Bayes classifier and report accuracy on the dev data. Remember that Naive Bayes estimates P(feature|label). While sklearn can handle real-valued features, let's start by mapping the pixel values to either 0 or 1. You can do this as a preprocessing step, or with the binarize argument. With binary-valued features, you can use BernoulliNB. Next try mapping the pixel values to 0, 1, or 2, representing white, grey, or black. This mapping requires MultinomialNB. Does the multi-class version improve the results? Why or why not?"
     ]
    },
    {
     "cell_type": "code",
     "collapsed": false,
     "input": [
      "#def P7():\n",
      "\n",
      "### STUDENT START ###\n",
      "\n",
      "# instantiate a Naive Bayes classifier \n",
      "# with binary-valued features\n",
      "nb = BernoulliNB(binarize=0.5)\n",
      "\n",
      "# train the model\n",
      "nb.fit(mini_train_data, mini_train_labels) \n",
      "\n",
      "# show model accuracy\n",
      "output = 'Accuracy of Bernoulli Naive Bayes: %s'\n",
      "print output % nb.score(dev_data, dev_labels)\n",
      "\n",
      "# create a mapping for three-valued featured  \n",
      "mapping = np.zeros(mini_train_data.shape)\n",
      "\n",
      "num_values = 3\n",
      "\n",
      "for i in range(mini_train_data.shape[0]):\n",
      "    for j in range(mini_train_data.shape[1]):\n",
      "        if mini_train_data[i][j] <= (1 / float(num_values)):\n",
      "            mapping[i][j] = 0\n",
      "        elif mini_train_data[i][j] < (2 / float(num_values)):\n",
      "            mapping[i][j] = 1\n",
      "        else:\n",
      "            mapping[i][j] = 1\n",
      "\n",
      "# get and display results for a Naive Bayes classifier\n",
      "# with three-valued features\n",
      "nb = MultinomialNB()\n",
      "nb.fit(mapping, mini_train_labels)\n",
      "\n",
      "output = 'Accuracy of Naive Bayes with three-valued features: %s'\n",
      "print output % nb.score(dev_data, dev_labels)\n",
      "\n",
      "### STUDENT END ###\n",
      "\n",
      "#P7()"
     ],
     "language": "python",
     "metadata": {},
     "outputs": [
      {
       "output_type": "stream",
       "stream": "stdout",
       "text": [
        "Accuracy of Bernoulli Naive Bayes: 0.815\n",
        "Accuracy of Naive Bayes with three-valued features: 0.795"
       ]
      },
      {
       "output_type": "stream",
       "stream": "stdout",
       "text": [
        "\n"
       ]
      }
     ],
     "prompt_number": 4
    },
    {
     "cell_type": "markdown",
     "metadata": {},
     "source": [
      "ANSWER: The multi-class version does not improve the accuracy of the model. "
     ]
    },
    {
     "cell_type": "markdown",
     "metadata": {},
     "source": [
      "(8) Use GridSearchCV to perform a search over values of alpha (the Laplace smoothing parameter) in a Bernoulli NB model. What is the best value for alpha? What is the accuracy when alpha=0? Is this what you'd expect?\n",
      "\n",
      "- Note that GridSearchCV partitions the training data so the results will be a bit different than if you used the dev data for evaluation."
     ]
    },
    {
     "cell_type": "code",
     "collapsed": false,
     "input": [
      "def P8(alphas):\n",
      "\n",
      "### STUDENT START ###\n",
      "\n",
      "    # instantiate a Benoulli NB\n",
      "    nb = BernoulliNB(binarize=0.5)\n",
      "\n",
      "    estimator = GridSearchCV(estimator=nb, param_grid=alphas)\n",
      "    estimator.fit(mini_train_data, mini_train_labels)\n",
      "    \n",
      "    return estimator\n",
      "\n",
      "### STUDENT END ###\n",
      "\n",
      "alphas = {'alpha': [0.0, 0.0001, 0.001, 0.01, 0.1, 0.5, 1.0, 2.0, 10.0]}\n",
      "nb = P8(alphas)"
     ],
     "language": "python",
     "metadata": {},
     "outputs": [
      {
       "output_type": "stream",
       "stream": "stderr",
       "text": [
        "/usr/local/lib/python2.7/dist-packages/sklearn/naive_bayes.py:472: UserWarning: alpha too small will result in numeric errors, setting alpha = 1.0e-10\n",
        "  'setting alpha = %.1e' % _ALPHA_MIN)\n"
       ]
      }
     ],
     "prompt_number": 3
    },
    {
     "cell_type": "code",
     "collapsed": false,
     "input": [
      "print nb.best_params_\n",
      "\n",
      "# print the accuracy for the best alpha\n",
      "best_score, = (score for score in nb.grid_scores_ if score.parameters == nb.best_params_)\n",
      "output = '\\nAccuracy for alpha of %s is: %s'\n",
      "print output % (nb.best_params_['alpha'], best_score.mean_validation_score)\n",
      "\n",
      "# print the the accuracy when alpha = 0\n",
      "print output % (0, nb.grid_scores_[0].mean_validation_score)"
     ],
     "language": "python",
     "metadata": {},
     "outputs": [
      {
       "output_type": "stream",
       "stream": "stdout",
       "text": [
        "{'alpha': 0.01}\n",
        "\n",
        "Accuracy for alpha of 0.01 is: 0.821\n",
        "\n",
        "Accuracy for alpha of 0 is: 0.803\n"
       ]
      }
     ],
     "prompt_number": 51
    },
    {
     "cell_type": "markdown",
     "metadata": {},
     "source": [
      "ANSWER: The best value for alpha is 0.01, with an accuracy of 82%. The accuracy for an alpha of 0 is 80%. This seems reasonable, because we would expect the results to improve with smoothing up to a point and then to decrease as the variance of the model decreases. "
     ]
    },
    {
     "cell_type": "markdown",
     "metadata": {},
     "source": [
      "(9) Try training a model using GuassianNB, which is intended for real-valued features, and evaluate on the dev data. You'll notice that it doesn't work so well. Try to diagnose the problem. You should be able to find a simple fix that returns the accuracy to around the same rate as BernoulliNB. Explain your solution.\n",
      "\n",
      "Hint: examine the parameters estimated by the fit() method, theta\\_ and sigma\\_."
     ]
    },
    {
     "cell_type": "code",
     "collapsed": false,
     "input": [
      "#def P9():\n",
      "\n",
      "### STUDENT END ###\n",
      "\n",
      "nb = GaussianNB()\n",
      "\n",
      "altered = mini_train_data\n",
      "#altered[altered == 0.5] = 0\n",
      "np.log(altered + 0.5)\n",
      "\n",
      "nb.fit(altered, mini_train_labels)\n",
      "score = nb.score(dev_data, dev_labels)\n",
      "\n",
      "print 'The accuracy of the model is %s%%.' % int(score * 100) \n",
      "\n",
      "where = np.where(mini_train_labels == 9)\n",
      "nines = mini_train_data[where]\n",
      "\n",
      "#print nines.shape\n",
      "#print nb.theta_[9].shape\n",
      "\n",
      "data = nines[:,155]\n",
      "#x[x == -inf] = 0\n",
      "from numpy import inf\n",
      "data[data == -inf] = 0.000001\n",
      "print data\n",
      "\n",
      "plt.hist(data, 10)\n",
      "#plt.show()\n",
      "\n",
      "#zeros = np.zeros( (2, 100))\n",
      "#print zeros\n",
      "#np.not_equal(nb.theta_, zeros)\n",
      "\n",
      "\n",
      "\n",
      "print nb.theta_[9][155]\n",
      "print nb.sigma_[9][155]\n",
      "#mini_train_data[0].mean()\n",
      "\n",
      "#plt.scatter(nb.theta_[9])\n",
      "\n",
      "\n",
      "### STUDENT END ###\n",
      "\n",
      "#gnb = P9()"
     ],
     "language": "python",
     "metadata": {},
     "outputs": [
      {
       "output_type": "stream",
       "stream": "stdout",
       "text": [
        "The accuracy of the model is 10%.\n",
        "[ 0.          0.          0.43921569  0.17254902  0.          0.          0.\n",
        "  0.          0.          0.          0.          0.          0.          0.\n",
        "  0.          0.          0.          0.          0.          0.\n",
        "  0.65490196  0.          0.99607843  0.99215686  0.          0.          0.\n",
        "  0.          0.          0.          0.          0.          0.          0.\n",
        "  0.          0.          0.          0.          0.          0.          0.\n",
        "  0.          0.          0.          0.01568627  0.          0.16862745\n",
        "  0.          0.          0.          0.          0.          0.          0.\n",
        "  0.          0.          0.          0.          0.          0.          0.\n",
        "  0.          0.          0.          0.          0.          0.          0.\n",
        "  0.          0.          0.          0.          0.          0.          0.\n",
        "  0.          0.          0.          0.70588235  0.          0.          0.\n",
        "  0.          0.          0.          0.          0.          0.          0.\n",
        "  0.          0.          0.          0.          0.          0.96470588\n",
        "  0.          0.          0.          0.          0.          0.          0.\n",
        "  0.          0.85490196  0.          0.          0.          0.          0.6745098\n",
        "  0.          0.        ]\n",
        "-0.620345603939"
       ]
      },
      {
       "output_type": "stream",
       "stream": "stdout",
       "text": [
        "\n",
        "0.0606599745229\n"
       ]
      },
      {
       "metadata": {},
       "output_type": "display_data",
       "png": "[encoded data removed]",
       "text": [
        "<matplotlib.figure.Figure at 0x7f9686000990>"
       ]
      }
     ],
     "prompt_number": 253
    },
    {
     "cell_type": "markdown",
     "metadata": {},
     "source": [
      "ANSWER:"
     ]
    },
    {
     "cell_type": "markdown",
     "metadata": {},
     "source": [
      "(10) Because Naive Bayes is a generative model, we can use the trained model to generate digits. Train a BernoulliNB model and then generate a 10x20 grid with 20 examples of each digit. Because you're using a Bernoulli model, each pixel output will be either 0 or 1. How do the generated digits compare to the training digits?\n",
      "\n",
      "- You can use np.random.rand() to generate random numbers from a uniform distribution\n",
      "- The estimated probability of each pixel is stored in feature\\_log\\_prob\\_. You'll need to use np.exp() to convert a log probability back to a probability."
     ]
    },
    {
     "cell_type": "code",
     "collapsed": false,
     "input": [
      "def P10(num_examples):\n",
      "\n",
      "### STUDENT START ###\n",
      "\n",
      "    # train the model\n",
      "    nb = BernoulliNB()\n",
      "    nb.fit(mini_train_data, mini_train_labels)\n",
      "\n",
      "    # convert log probabilities to probobalities\n",
      "    pixel_probs = np.exp(nb.feature_log_prob_)\n",
      "\n",
      "    # generate a 10 x 20 grid showing images created from the \n",
      "    # probabilities in the Bernoulli model\n",
      "    num_digits = 10\n",
      "    for i in range(num_digits):\n",
      "        \n",
      "        # the probability of each pixel being 'on' for this digit\n",
      "        pixel_probs_for_digit = pixel_probs[i] \n",
      "        \n",
      "        for j in range(num_examples):\n",
      "    \n",
      "            # simulate draws using the distribution by comparing the pixel\n",
      "            # probs to a random number between 0 or 1\n",
      "            # https://stats.stackexchange.com/a/240339\n",
      "            random = np.random.rand(784)\n",
      "            generated_img = img_probs > random\n",
      "            \n",
      "            # Alternate approach: https://stackoverflow.com/a/36398896/6781104\n",
      "            #generated_img = np.random.binomial(1, p=pixel_probs[i])\n",
      "            \n",
      "            # display the image\n",
      "            img_num = (i * num_examples) + (j + 1)\n",
      "            plt.subplot(num_digits, num_examples, img_num) \n",
      "            plt.imshow(generated_img.reshape(28,28))\n",
      "            plt.xticks([]); plt.yticks([])\n",
      "            \n",
      "### STUDENT END ###\n",
      "\n",
      "P10(20)"
     ],
     "language": "python",
     "metadata": {},
     "outputs": [
      {
       "metadata": {},
       "output_type": "display_data",
       "png": "[encoded data removed]",
       "text": [
        "<matplotlib.figure.Figure at 0x7f967f2d7f10>"
       ]
      }
     ],
     "prompt_number": 212
    },
    {
     "cell_type": "markdown",
     "metadata": {},
     "source": [
      "ANSWER: The generated digits are not as clear or well-defined as the training digits, perhaps because the model is probabilistic. "
     ]
    },
    {
     "cell_type": "markdown",
     "metadata": {},
     "source": [
      "(11) Remember that a strongly calibrated classifier is rougly 90% accurate when the posterior probability of the predicted class is 0.9. A weakly calibrated classifier is more accurate when the posterior is 90% than when it is 80%. A poorly calibrated classifier has no positive correlation between posterior and accuracy.\n",
      "\n",
      "Train a BernoulliNB model with a reasonable alpha value. For each posterior bucket (think of a bin in a histogram), you want to estimate the classifier's accuracy. So for each prediction, find the bucket the maximum posterior belongs to and update the \"correct\" and \"total\" counters.\n",
      "\n",
      "How would you characterize the calibration for the Naive Bayes model?"
     ]
    },
    {
     "cell_type": "code",
     "collapsed": false,
     "input": [
      "def P11(buckets, correct, total):\n",
      "    \n",
      "### STUDENT START ###\n",
      "\n",
      "    # train the model\n",
      "    nb = BernoulliNB(alpha=.01)\n",
      "    nb.fit(mini_train_data, mini_train_labels)\n",
      "    \n",
      "    # get the predicted probabilities for each class\n",
      "    # for each example in the dev data\n",
      "    predicted_probas = nb.predict_proba(dev_data)\n",
      "    \n",
      "    # for each example, determine to which bucket the\n",
      "    # predicted probablility belongs and update the \n",
      "    # lists of counters accordingly\n",
      "    for idx, predicted_proba in enumerate(predicted_probas):\n",
      "        # get the predicted class and the probability\n",
      "        predicted_class = np.argmax(predicted_proba)\n",
      "        prob = np.max(predicted_proba)\n",
      "        \n",
      "        # update the total count for the bucket\n",
      "        # corresponding to the predicted probability\n",
      "        bucket = np.digitize(prob, buckets) - 1\n",
      "        total[bucket] += 1\n",
      "        \n",
      "        # update the correct count, depending on whether\n",
      "        # the prediction corresponded to the label or not\n",
      "        is_correct = predicted_class == dev_labels[idx]\n",
      "        correct[bucket] += is_correct\n",
      "                \n",
      "### STUDENT END ###\n",
      "\n",
      "buckets = [0.5, 0.9, 0.999, 0.99999, 0.9999999, 0.999999999, 0.99999999999, 0.9999999999999, 1.0]\n",
      "correct = [0 for i in buckets]\n",
      "total = [0 for i in buckets]\n",
      "\n",
      "P11(buckets, correct, total)\n",
      "\n",
      "for i in range(len(buckets)):\n",
      "    accuracy = 0.0\n",
      "    if (total[i] > 0): accuracy = correct[i] / float(total[i])\n",
      "    print 'p(pred) <= %.13f    total = %3d    accuracy = %.3f' %(buckets[i], total[i], accuracy)"
     ],
     "language": "python",
     "metadata": {},
     "outputs": [
      {
       "output_type": "stream",
       "stream": "stdout",
       "text": [
        "p(pred) <= 0.5000000000000    total =  30    accuracy = 0.400\n",
        "p(pred) <= 0.9000000000000    total =  76    accuracy = 0.447\n",
        "p(pred) <= 0.9990000000000    total =  51    accuracy = 0.490\n",
        "p(pred) <= 0.9999900000000    total =  62    accuracy = 0.581\n",
        "p(pred) <= 0.9999999000000    total =  44    accuracy = 0.591\n",
        "p(pred) <= 0.9999999990000    total =  47    accuracy = 0.787\n",
        "p(pred) <= 0.9999999999900    total =  39    accuracy = 0.769\n",
        "p(pred) <= 0.9999999999999    total =  25    accuracy = 0.760\n",
        "p(pred) <= 1.0000000000000    total = 626    accuracy = 0.954\n"
       ]
      }
     ],
     "prompt_number": 315
    },
    {
     "cell_type": "markdown",
     "metadata": {},
     "source": [
      "ANSWER: Naive Bayes appears to be a weakly calibrated model. A prediction with 90% probability is correct in  less than half of the cases, so the model is not strongly calibrated, by definition. However, as the predicted probability increases, so does the accuracy. A predicted probability of 1, for example, is correct in over 95% of cases, so the model is weakly calibrated. "
     ]
    },
    {
     "cell_type": "markdown",
     "metadata": {},
     "source": [
      "(12) EXTRA CREDIT\n",
      "\n",
      "Try designing extra features to see if you can improve the performance of Naive Bayes on the dev set. Here are a few ideas to get you started:\n",
      "- Try summing the pixel values in each row and each column.\n",
      "- Try counting the number of enclosed regions; 8 usually has 2 enclosed regions, 9 usually has 1, and 7 usually has 0.\n",
      "\n",
      "Make sure you comment your code well!"
     ]
    },
    {
     "cell_type": "code",
     "collapsed": false,
     "input": [
      "#def P12():\n",
      "\n",
      "### STUDENT START ###\n",
      "\n",
      "### STUDENT END ###\n",
      "\n",
      "#P12()"
     ],
     "language": "python",
     "metadata": {},
     "outputs": [],
     "prompt_number": 15
    },
    {
     "cell_type": "code",
     "collapsed": false,
     "input": [],
     "language": "python",
     "metadata": {},
     "outputs": [],
     "prompt_number": 15
    }
   ],
   "metadata": {}
  }
 ]
}